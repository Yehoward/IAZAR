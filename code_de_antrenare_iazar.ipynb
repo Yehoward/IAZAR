{
    "cells": [
        {
            "cell_type": "markdown",
            "id": "fbfa8ad5-4cdc-4512-9058-836cbbf65e1a",
            "metadata": {
                "id": "fbfa8ad5-4cdc-4512-9058-836cbbf65e1a"
            },
            "source": [
                "În acest Colab, vă prezentăm un ghid pas cu pas despre cum să adjustați Whisper pentru orice set de date multilingv folosind Hugging Face 🤗 Transformers. Aceasta este o versiune mai „practică” a [postării de blog](https://huggingface.co/blog/fine-tune-whisper).\n"
            ]
        },
        {
            "cell_type": "markdown",
            "id": "55fb8d21-df06-472a-99dd-b59567be6dad",
            "metadata": {
                "id": "55fb8d21-df06-472a-99dd-b59567be6dad"
            },
            "source": [
                "## Pregătirea mediului\n"
            ]
        },
        {
            "cell_type": "markdown",
            "id": "844a4861-929c-4762-b29b-80b1e95aba4b",
            "metadata": {
                "id": "844a4861-929c-4762-b29b-80b1e95aba4b"
            },
            "source": [
                "În primul rând, să încercăm să asigurăm un GPU decent pentru Colab nostru! Din păcate, devine mult mai greu să obții acces la un GPU bun cu versiunea gratuită a Google Colab. Cu toate acestea, cu Google Colab Pro, nu ar trebui să aveți probleme în a primi un GPU V100 sau P100. Pentru a obține un GPU, faceți clic pe _Runtime_ -> _Change runtime type_, apoi schimbați _Hardware accelerator_ de la _CPU_ la unul dintre GPU-urile disponibile, de ex. _T4_ (sau mai bine dacă aveți unul disponibil). Apoi, faceți clic pe „Connect T4” în colțul din dreapta sus al ecranului (sau „Connect {V100, A100}” dacă ați selectat un alt GPU).\n"
            ]
        },
        {
            "cell_type": "markdown",
            "id": "9abea5d7-9d54-434b-a6bd-399d1b3c6c1a",
            "metadata": {
                "id": "9abea5d7-9d54-434b-a6bd-399d1b3c6c1a"
            },
            "source": [
                "Putem verifica că ni s-a atribuit un GPU și să vedem specificațiile acestuia:\n"
            ]
        },
        {
            "cell_type": "code",
            "execution_count": null,
            "id": "95048026-a3b7-43f0-a274-1bad65e407b4",
            "metadata": {
                "id": "95048026-a3b7-43f0-a274-1bad65e407b4",
                "outputId": "911da427-9ded-4eab-b8c9-f3d27d9a5898",
                "colab": {
                    "base_uri": "https://localhost:8080/"
                }
            },
            "outputs": [
                {
                    "output_type": "stream",
                    "name": "stdout",
                    "text": [
                        "Sun May  5 09:15:22 2024       \n",
                        "+---------------------------------------------------------------------------------------+\n",
                        "| NVIDIA-SMI 535.104.05             Driver Version: 535.104.05   CUDA Version: 12.2     |\n",
                        "|-----------------------------------------+----------------------+----------------------+\n",
                        "| GPU  Name                 Persistence-M | Bus-Id        Disp.A | Volatile Uncorr. ECC |\n",
                        "| Fan  Temp   Perf          Pwr:Usage/Cap |         Memory-Usage | GPU-Util  Compute M. |\n",
                        "|                                         |                      |               MIG M. |\n",
                        "|=========================================+======================+======================|\n",
                        "|   0  Tesla T4                       Off | 00000000:00:04.0 Off |                    0 |\n",
                        "| N/A   65C    P0              31W /  70W |   3179MiB / 15360MiB |      0%      Default |\n",
                        "|                                         |                      |                  N/A |\n",
                        "+-----------------------------------------+----------------------+----------------------+\n",
                        "                                                                                         \n",
                        "+---------------------------------------------------------------------------------------+\n",
                        "| Processes:                                                                            |\n",
                        "|  GPU   GI   CI        PID   Type   Process name                            GPU Memory |\n",
                        "|        ID   ID                                                             Usage      |\n",
                        "|=======================================================================================|\n",
                        "+---------------------------------------------------------------------------------------+\n"
                    ]
                }
            ],
            "source": [
                "gpu_info = !nvidia-smi\n",
                "gpu_info = '\\n'.join(gpu_info)\n",
                "if gpu_info.find('failed') >= 0:\n",
                "  print('Not connected to a GPU')\n",
                "else:\n",
                "  print(gpu_info)"
            ]
        },
        {
            "cell_type": "markdown",
            "id": "1d85d613-1c7e-46ac-9134-660bbe7ebc9d",
            "metadata": {
                "id": "1d85d613-1c7e-46ac-9134-660bbe7ebc9d"
            },
            "source": [
                "Vom folosi mai multe pachete populare Python pentru adjustarea fină modelul Whisper. Vom folosi `datasets[audio]` pentru a descărca și pregăti datele noastre de antrenament, alături `transformers` și `accelerate`  pentru a încărca și antrena modelul nostru Whisper. De asemenea, vom solicita librărie `soundfile` pentru a preprocesa fișierele audio, `evaluate`  și `jiwer` pentru a evalua performanța modelului nostru și `tensorboard` pentru a înregistra valorile noastre. În cele din urmă, vom folosi `gradio` pentru a construi un demonstrație strălucitoare a modelului nostru fin reglat.\n"
            ]
        },
        {
            "cell_type": "code",
            "execution_count": null,
            "id": "e68ea9f8-9b61-414e-8885-3033b67c2850",
            "metadata": {
                "id": "e68ea9f8-9b61-414e-8885-3033b67c2850",
                "outputId": "5eda482a-86e1-49d4-fe53-92949faf23fd",
                "colab": {
                    "base_uri": "https://localhost:8080/"
                }
            },
            "outputs": [
                {
                    "output_type": "stream",
                    "name": "stdout",
                    "text": [
                        "\u001b[33mWARNING: Running pip as the 'root' user can result in broken permissions and conflicting behaviour with the system package manager. It is recommended to use a virtual environment instead: https://pip.pypa.io/warnings/venv\u001b[0m\u001b[33m\n",
                        "\u001b[0m\u001b[33mWARNING: Running pip as the 'root' user can result in broken permissions and conflicting behaviour with the system package manager. It is recommended to use a virtual environment instead: https://pip.pypa.io/warnings/venv\u001b[0m\u001b[33m\n",
                        "\u001b[0m"
                    ]
                }
            ],
            "source": [
                "!pip install --upgrade --quiet pip\n",
                "!pip install --upgrade --quiet datasets[audio] transformers accelerate evaluate jiwer tensorboard gradio"
            ]
        },
        {
            "cell_type": "markdown",
            "id": "1f60d173-8de1-4ed7-bc9a-d281cf237203",
            "metadata": {
                "id": "1f60d173-8de1-4ed7-bc9a-d281cf237203"
            },
            "source": [
                "Vă sfătuim insistent să încărcați punctele de control al modelului direct în [Hugging Face Hub](https://huggingface.co/) în timpul antrenamentului. Hub-ul oferă:\n",
                " - Control integrat al versiunii: puteți fi sigur că niciun punct de control al modelului nu este pierdut în timpul antrenamentului.\n",
                " - Jurnalele Tensorboard: urmăriți valorile importante pe parcursul antrenamentului.\n",
                "\n",
                " - Carduri model: documentează ceea ce face un model și cazurile de utilizare ale acestuia.\n",
                " - Comunitate: o modalitate ușoară de a partaja și de a colabora cu comunitatea!\n",
                " Conectarea notebook-ului la Hub este simplă - necesită pur și simplu introducerea simbolului de autentificare Hub atunci când vi se solicită. Găsiți indicativul de autentificare Hub [aici](https://huggingface.co/settings/tokens):\n"
            ]
        },
        {
            "cell_type": "code",
            "execution_count": null,
            "id": "b045a39e-2a3e-4153-bdb5-281500bcd348",
            "metadata": {
                "id": "b045a39e-2a3e-4153-bdb5-281500bcd348",
                "outputId": "ff5dae0b-1952-4411-aeeb-2865d1bcaa66",
                "colab": {
                    "base_uri": "https://localhost:8080/",
                    "height": 145,
                    "referenced_widgets": [
                        "12981418b61d4351823fd3d972bdd094",
                        "312d9a79c3d842d89656a6ce309df6c7",
                        "90f49a3ea222494e91465c971fcf939f",
                        "8cadc2ed6c0b4a66b2fd447c064584da",
                        "210ca246f99843b4ba72601752719174",
                        "f5006269e14a4ce280a6d34dc2643249",
                        "bfa5acc5edbc4542a42e44b12807fa74",
                        "e2cde767169c476c92e60ccca67cfb34",
                        "fcc84b50056d4b908970e64e0673111a",
                        "e2b905d6854a4496908ecbb5e8c54eef",
                        "47e78b995a9944b7a655460f59b85f3f",
                        "2e6203ed33a748f188ee9e3924f311c2",
                        "272a04344dea40a286616172bdc91ef2",
                        "662b2b2b86cf466b8cc679976403935b",
                        "6ab1c4b915f94da5a54b9e11519f18c2",
                        "db5ce534d51b4f209a43350391a5d007",
                        "3e902f82833b4612a72e85876a7dece4",
                        "00dc75e695ec438eb7574917aa31203d",
                        "201f45c09059491e854044e0daf81e8b",
                        "17a1c76330fe4abd946f5b2465e5a996",
                        "672b214484164736886d3c3cdfb91a9e",
                        "f44a635eb6544543aa1c9077df551f7c",
                        "cedd9aafe73142e2a670aa6ba0c1aad9",
                        "9321f73bc8364e09bb59af0a656466db",
                        "3de8144b143b47a890959a190a2898df",
                        "127b74e331d54ee881a2a6d0f5f99afd",
                        "3fc9eeba2d624b1ab45c0501c1a30d4f",
                        "5820c83b66f747ee8c56d664f499d681",
                        "a58d8893c5ff44b7af1a13558c179d14",
                        "f87979cc00714dcebd13ac153c133aaf",
                        "cd7a74661d754bd18ef7f265f95bde4d",
                        "bc602719fac040dc9bbefb5b48e03b6f"
                    ]
                }
            },
            "outputs": [
                {
                    "output_type": "display_data",
                    "data": {
                        "text/plain": [
                            "VBox(children=(HTML(value='<center> <img\\nsrc=https://huggingface.co/front/assets/huggingface_logo-noborder.sv…"
                        ],
                        "application/vnd.jupyter.widget-view+json": {
                            "version_major": 2,
                            "version_minor": 0,
                            "model_id": "12981418b61d4351823fd3d972bdd094"
                        }
                    },
                    "metadata": {}
                }
            ],
            "source": [
                "from huggingface_hub import notebook_login\n",
                "\n",
                "notebook_login()"
            ]
        },
        {
            "cell_type": "markdown",
            "id": "b219c9dd-39b6-4a95-b2a1-3f547a1e7bc0",
            "metadata": {
                "id": "b219c9dd-39b6-4a95-b2a1-3f547a1e7bc0"
            },
            "source": [
                "## Încărcați setul de date\n"
            ]
        },
        {
            "cell_type": "markdown",
            "id": "674429c5-0ab4-4adf-975b-621bb69eca38",
            "metadata": {
                "id": "674429c5-0ab4-4adf-975b-621bb69eca38"
            },
            "source": [
                "Folosind 🤗 Seturi de date, descărcarea și pregătirea datelor este extrem de simplă. Putem descărca și pregăti diviziunile într-o singură linie de cod. Am folosit date colectate cu ajutorul [colectorului de date](https://github.com/Yehoward/iazar-datacollector) în cadrul proiectului Tekwill Junior Ambasadors. **Datele sunt private, ca să nu fie utilizate contra donatorilor noștri!**\n"
            ]
        },
        {
            "cell_type": "code",
            "execution_count": null,
            "id": "a2787582-554f-44ce-9f38-4180a5ed6b44",
            "metadata": {
                "id": "a2787582-554f-44ce-9f38-4180a5ed6b44",
                "outputId": "7a44307b-5cae-4a61-a4cf-a2807aa6e63d",
                "colab": {
                    "base_uri": "https://localhost:8080/"
                }
            },
            "outputs": [
                {
                    "output_type": "stream",
                    "name": "stdout",
                    "text": [
                        "DatasetDict({\n",
                        "    train: Dataset({\n",
                        "        features: ['audio', 'transcription'],\n",
                        "        num_rows: 37\n",
                        "    })\n",
                        "    test: Dataset({\n",
                        "        features: ['audio', 'transcription'],\n",
                        "        num_rows: 15\n",
                        "    })\n",
                        "})\n"
                    ]
                }
            ],
            "source": [
                "from datasets import load_dataset, DatasetDict\n",
                "\n",
                "dataset = DatasetDict()\n",
                "\n",
                "\n",
                "pretrained_model = {\n",
                "    \"pretrained_model_name_or_path\": \"Yehoward/whisper-small-ro\",\n",
                "    \"revision\": \"b3853106ca127f6daa19cd11058138398e7af174\"\n",
                "}\n",
                "\n",
                "dataset_name = \"Yehoward/iazar-date\"\n",
                "dataset[\"train\"] = load_dataset(dataset_name, split=\"train\", use_auth_token=True)\n",
                "dataset[\"test\"] = load_dataset(dataset_name, split=\"test\", use_auth_token=True)\n",
                "\n",
                "print(dataset)"
            ]
        },
        {
            "cell_type": "markdown",
            "id": "2d63b2d2-f68a-4d74-b7f1-5127f6d16605",
            "metadata": {
                "id": "2d63b2d2-f68a-4d74-b7f1-5127f6d16605"
            },
            "source": [
                "## Pregătim Extractor de caracteristici, Tokenizer și Date\n"
            ]
        },
        {
            "cell_type": "markdown",
            "id": "601c3099-1026-439e-93e2-5635b3ba5a73",
            "metadata": {
                "id": "601c3099-1026-439e-93e2-5635b3ba5a73"
            },
            "source": [
                "Conducta TAV(Transcrierea Automată a Vocii - eng. [ASR]) poate fi descompusă în trei etape:\n",
                " 1. Un extractor de caracteristici care preprocesează intrările audio brute\n",
                " 2. Modelul care realizează maparea secvență-la-secvență\n",
                " 3. Un tokenizer care post-procesează ieșirile modelului în format text. În 🤗 Transformers, modelul Whisper are asociat un extractor de caracteristici și un tokenizer, numit [WhisperFeatureExtractor](https://huggingface.co/docs/transformers/main/model_doc/whisper#transformers.WhisperFeatureExtractor) și [WhisperTokenizer]( respectiv https://huggingface.co/docs/transformers/main/model_doc/whisper#transformers.WhisperTokenizer). Vom parcurge detaliile pentru configurarea extractorului de caracteristici și tokenizerului unul câte unul!\n"
            ]
        },
        {
            "cell_type": "markdown",
            "id": "560332eb-3558-41a1-b500-e83a9f695f84",
            "metadata": {
                "id": "560332eb-3558-41a1-b500-e83a9f695f84"
            },
            "source": [
                "### Încărcați WhisperFeatureExtractor\n"
            ]
        },
        {
            "cell_type": "markdown",
            "id": "32ec8068-0bd7-412d-b662-0edb9d1e7365",
            "metadata": {
                "id": "32ec8068-0bd7-412d-b662-0edb9d1e7365"
            },
            "source": [
                "Extractorul caracteristicii Whisper efectuează două operațiuni:\n",
                " 1. Tampează / trunchiază intrările audio la 30 de secunde: orice intrări audio mai scurte de 30 de secunde sunt completate la 30 de secunde cu tăcere (zero), iar cele mai lungi de 30 de secunde sunt trunchiate la 30 de secunde\n",
                " 2. Convertește intrările audio la caracteristicile de intrare _log-Mel spectrogram_, o reprezentare vizuală a sunetului și forma intrării așteptate de modelul Whisper\n"
            ]
        },
        {
            "cell_type": "markdown",
            "id": "589d9ec1-d12b-4b64-93f7-04c63997da19",
            "metadata": {
                "id": "589d9ec1-d12b-4b64-93f7-04c63997da19"
            },
            "source": [
                "<figura> <img src=\"https://raw.githubusercontent.com/sanchit-gandhi/notebooks/main/spectrogram.jpg\" alt=\"Trulli\" style=\"width:100%\"> <figcaption align = \"center „><b>Figura 2:</b> Conversia matricei audio eșantionate în spectrograma log-Mel. Stânga: semnal audio unidimensional eșantionat. Dreapta: spectrograma log-Mel corespunzătoare. Sursa figurii: <a href=\"https://ai.googleblog.com/2019/04/specaugment-new-data-augmentation.html\">Google SpecAugment Blog</a>. </figcaption>\n"
            ]
        },
        {
            "cell_type": "markdown",
            "id": "b2ef54d5-b946-4c1d-9fdc-adc5d01b46aa",
            "metadata": {
                "id": "b2ef54d5-b946-4c1d-9fdc-adc5d01b46aa"
            },
            "source": [
                "Vom încărca extractorul de caracteristici de la punctul de control pre-antrenat cu valorile implicite:\n"
            ]
        },
        {
            "cell_type": "code",
            "execution_count": null,
            "id": "bc77d7bb-f9e2-47f5-b663-30f7a4321ce5",
            "metadata": {
                "id": "bc77d7bb-f9e2-47f5-b663-30f7a4321ce5"
            },
            "outputs": [],
            "source": [
                "from transformers import WhisperFeatureExtractor\n",
                "\n",
                "feature_extractor = WhisperFeatureExtractor.from_pretrained(\"openai/whisper-small\")"
            ]
        },
        {
            "cell_type": "markdown",
            "id": "93748af7-b917-4ecf-a0c8-7d89077ff9cb",
            "metadata": {
                "id": "93748af7-b917-4ecf-a0c8-7d89077ff9cb"
            },
            "source": [
                "### Încărcăm WhisperTokenizer\n"
            ]
        },
        {
            "cell_type": "markdown",
            "id": "2bc82609-a9fb-447a-a2af-99597c864029",
            "metadata": {
                "id": "2bc82609-a9fb-447a-a2af-99597c864029"
            },
            "source": [
                "Modelul Whisper produce o secvență de _ID-uri token_. Tokenizer-ul corelează fiecare dintre aceste ID-uri de simbol cu șirul de text corespunzător. Pentru română, putem încărca tokenizatorul pre-antrenat și îl putem folosi pentru adjustare fină fără alte modificări. Trebuie doar să specificăm limba țintă și sarcina. Aceste argumente informează tokenizerul să prefixeze limbajul și simbolurile de activitate la începutul secvențelor de etichete codificate:\n"
            ]
        },
        {
            "cell_type": "code",
            "execution_count": null,
            "id": "c7b07f9b-ae0e-4f89-98f0-0c50d432eab6",
            "metadata": {
                "id": "c7b07f9b-ae0e-4f89-98f0-0c50d432eab6",
                "outputId": "31ca7b62-9562-4e0d-aa7c-0f48f5b85673",
                "colab": {
                    "base_uri": "https://localhost:8080/",
                    "height": 281,
                    "referenced_widgets": [
                        "adad986997e94e1eb6d8a05f018ea372",
                        "5088d3108cc9471dbb1c2560a595e98f",
                        "c07822b20341442581a77d3161cec932",
                        "db8d1706ea89498a9021e74a92874a4b",
                        "936f62abc91143eba85acdbec76748c3",
                        "c167001d06ad4591bc400e96c75b4e1d",
                        "ad465ece0efe4e1f937aa42891983488",
                        "3faad827ecfb4b3d84d957c2ebde7661",
                        "6f78be2144e649598da818754e5299af",
                        "8627c23679414a7298788e56f36b2152",
                        "cd052a4d31804b4a9be506f43fe8364c",
                        "7c9dccbb0a614b7ba51bb4dfc22634f4",
                        "ba2316c760724b7e8433db31d121271b",
                        "abb7db76aa7b4b599a2a5757e33d464b",
                        "ef09b123f99f4473980e052f58697cff",
                        "719ef0d156f04bca8866110a3908e2a5",
                        "4f22f786e1a4438381aa4d41ede436f8",
                        "bd8435e5280d4144b8d74889832411e9",
                        "8c40b73df7aa49e8afce5ca858507f75",
                        "a55e51ab156d44289fe56601f463d9e3",
                        "59c96150e8094fafa90974abaed3e113",
                        "6c5d6d93faed48ff92e7560ae829e5f1",
                        "c0f60efbd5084a12b0ad08f69f6cda78",
                        "e9f0a9574851462398dd634c50159f17",
                        "05b5b10354fa4e6c837ea3723b1e6aba",
                        "542c556e73924ac2a4313a305fefb801",
                        "1e218398387945ffbb0b49b11acff966",
                        "7c053182dac440d796b27e4dc10ea05f",
                        "6369fd3bc8a14c12af3b2f03faebb7f7",
                        "7fd7f7ba7a204ffbad002ea31fd51bfe",
                        "88a68e0a1d944e159277899f0bdc537d",
                        "b3515969308044078e679b024ec4610f",
                        "3fb66a7ba0ac4e84b79e6ff754cbd8b5",
                        "b569ca7ea9774e8588657ba0657f2144",
                        "352e70b0ea3147358fc7d409a6311bcf",
                        "a05a2be2f570418d8205553922d87da5",
                        "0b97cf744824453c89ae78720fd55f2a",
                        "135f1d3ad9794a2bb0924baca9ab02a5",
                        "d2dc18b62bfd4118b1400b139e420573",
                        "c167dcb8372445e7bff8ab851a614411",
                        "2a5fe94a4a1b4b61a9247d1d6be4a640",
                        "7bad8c8d31ae495b9bae21807bb53080",
                        "69a3d75406b946e0a2b4b94a004ed773",
                        "c29af68d2af245dcbf1a002f9afce3ac",
                        "74814be2afac4feaaa1f67a7f032dc37",
                        "d759d1f248ad4bf78ea99fca8aec89d3",
                        "dd244314a0094904a21967ea9fa33fdf",
                        "64a19712aea841c18983261d6b2def79",
                        "ad61c1e349a14c4d8cd6689b607a2b7d",
                        "b6ebe34ee18446bfae78f55812e10d1c",
                        "c2763633e2a84438ba370665d5d32394",
                        "869cd8af9c644aea8d81181ed4e6b1d3",
                        "f95b36a1d70b453ca7941bdd33022048",
                        "4a8d6d91060a47d2b72788944d532a56",
                        "e54362484d9543e68f843f03cc29247a",
                        "991b19fb424f41a7a85974ad1d341996",
                        "3306c5f73f3145d7b285ec04560d4843",
                        "6cc2e6046ec2491dbbb6d24d31fec878",
                        "32e3650eaf9c4d1fa4b8317217f94b5b",
                        "c044f2706b024aeeb034bf39050c80b3",
                        "7051a267aa9c437bad75d0b6d72659bc",
                        "93e3e641c00942ce89bda5fcefc5621e",
                        "f7eaef2ceadf4704b35bbd87e3546077",
                        "9d4f1f6a45b740e385fd0598f0d9a89a",
                        "07d087d4fe5349d1bdd7233a78bdc9d9",
                        "365b2178b48c4fe6aa1435ab22ea3eab"
                    ]
                }
            },
            "outputs": [
                {
                    "output_type": "display_data",
                    "data": {
                        "text/plain": [
                            "tokenizer_config.json:   0%|          | 0.00/283k [00:00<?, ?B/s]"
                        ],
                        "application/vnd.jupyter.widget-view+json": {
                            "version_major": 2,
                            "version_minor": 0,
                            "model_id": "adad986997e94e1eb6d8a05f018ea372"
                        }
                    },
                    "metadata": {}
                },
                {
                    "output_type": "display_data",
                    "data": {
                        "text/plain": [
                            "vocab.json:   0%|          | 0.00/1.04M [00:00<?, ?B/s]"
                        ],
                        "application/vnd.jupyter.widget-view+json": {
                            "version_major": 2,
                            "version_minor": 0,
                            "model_id": "7c9dccbb0a614b7ba51bb4dfc22634f4"
                        }
                    },
                    "metadata": {}
                },
                {
                    "output_type": "display_data",
                    "data": {
                        "text/plain": [
                            "merges.txt:   0%|          | 0.00/494k [00:00<?, ?B/s]"
                        ],
                        "application/vnd.jupyter.widget-view+json": {
                            "version_major": 2,
                            "version_minor": 0,
                            "model_id": "c0f60efbd5084a12b0ad08f69f6cda78"
                        }
                    },
                    "metadata": {}
                },
                {
                    "output_type": "display_data",
                    "data": {
                        "text/plain": [
                            "normalizer.json:   0%|          | 0.00/52.7k [00:00<?, ?B/s]"
                        ],
                        "application/vnd.jupyter.widget-view+json": {
                            "version_major": 2,
                            "version_minor": 0,
                            "model_id": "b569ca7ea9774e8588657ba0657f2144"
                        }
                    },
                    "metadata": {}
                },
                {
                    "output_type": "display_data",
                    "data": {
                        "text/plain": [
                            "added_tokens.json:   0%|          | 0.00/34.6k [00:00<?, ?B/s]"
                        ],
                        "application/vnd.jupyter.widget-view+json": {
                            "version_major": 2,
                            "version_minor": 0,
                            "model_id": "74814be2afac4feaaa1f67a7f032dc37"
                        }
                    },
                    "metadata": {}
                },
                {
                    "output_type": "display_data",
                    "data": {
                        "text/plain": [
                            "special_tokens_map.json:   0%|          | 0.00/2.19k [00:00<?, ?B/s]"
                        ],
                        "application/vnd.jupyter.widget-view+json": {
                            "version_major": 2,
                            "version_minor": 0,
                            "model_id": "991b19fb424f41a7a85974ad1d341996"
                        }
                    },
                    "metadata": {}
                }
            ],
            "source": [
                "from transformers import WhisperTokenizer\n",
                "\n",
                "tokenizer = WhisperTokenizer.from_pretrained(language=\"Romanian\", task=\"transcribe\", **pretrained_model)"
            ]
        },
        {
            "cell_type": "markdown",
            "id": "d2ef23f3-f4a8-483a-a2dc-080a7496cb1b",
            "metadata": {
                "id": "d2ef23f3-f4a8-483a-a2dc-080a7496cb1b"
            },
            "source": [
                "### Combinăm pentru a crea un WhisperProcessor\n"
            ]
        },
        {
            "cell_type": "markdown",
            "id": "5ff67654-5a29-4bb8-a69d-0228946c6f8d",
            "metadata": {
                "id": "5ff67654-5a29-4bb8-a69d-0228946c6f8d"
            },
            "source": [
                "Pentru a simplifica utilizarea extractorului de caracteristici și tokenizerului, le putem _încheia_ pe ambele într-o singură clasă `WhisperProcessor`. Acest obiect procesor moștenește de la `WhisperFeatureExtractor` și `WhisperProcessor` și poate fi utilizat pe intrările audio și predicțiile modelului după cum este necesar. Făcând acest lucru, trebuie să urmărim doar două obiecte în timpul antrenamentului: „procesorul” și „modelul”:\n"
            ]
        },
        {
            "cell_type": "code",
            "execution_count": null,
            "id": "77d9f0c5-8607-4642-a8ac-c3ab2e223ea6",
            "metadata": {
                "id": "77d9f0c5-8607-4642-a8ac-c3ab2e223ea6",
                "outputId": "70aeefd7-5594-41aa-d415-7d0632d31a56",
                "colab": {
                    "base_uri": "https://localhost:8080/",
                    "height": 121,
                    "referenced_widgets": [
                        "7fdfe8fbf35440d98bd071c3fe7930a5",
                        "ef2506a9daae4f2ea1a175c0b7cd4f48",
                        "e7e61cc600a24eae98def35b094a8e2e",
                        "9f5a3b594e694d4898ef89c30f84f754",
                        "822a14d56e054c6a97055a36aac79ec8",
                        "206fce0423c44fa2b62c91d7e4b1848f",
                        "34d3ad127fa84af5a9e0031663714003",
                        "c72fc5dd55bc419e9ff059ad1e275174",
                        "83c88a7d1b16492fbbf8bbda2e7109ae",
                        "c2cb579a5de740a8828b204f5f92c600",
                        "aa67991ad4aa486d99331ff81094711f"
                    ]
                }
            },
            "outputs": [
                {
                    "output_type": "display_data",
                    "data": {
                        "text/plain": [
                            "preprocessor_config.json:   0%|          | 0.00/339 [00:00<?, ?B/s]"
                        ],
                        "application/vnd.jupyter.widget-view+json": {
                            "version_major": 2,
                            "version_minor": 0,
                            "model_id": "7fdfe8fbf35440d98bd071c3fe7930a5"
                        }
                    },
                    "metadata": {}
                }
            ],
            "source": [
                "from transformers import WhisperProcessor\n",
                "\n",
                "processor = WhisperProcessor.from_pretrained(language=\"Romanian\", task=\"transcribe\", **pretrained_model)"
            ]
        },
        {
            "cell_type": "markdown",
            "id": "381acd09-0b0f-4d04-9eb3-f028ac0e5f2c",
            "metadata": {
                "id": "381acd09-0b0f-4d04-9eb3-f028ac0e5f2c"
            },
            "source": [
                "### Pregătim datele\n"
            ]
        },
        {
            "cell_type": "markdown",
            "id": "9649bf01-2e8a-45e5-8fca-441c13637b8f",
            "metadata": {
                "id": "9649bf01-2e8a-45e5-8fca-441c13637b8f"
            },
            "source": [
                "Să tipărim primul exemplu al setului de date pentru a vedea în ce formă sunt datele:\n"
            ]
        },
        {
            "cell_type": "code",
            "execution_count": null,
            "id": "6e6b0ec5-0c94-4e2c-ae24-c791be1b2255",
            "metadata": {
                "id": "6e6b0ec5-0c94-4e2c-ae24-c791be1b2255",
                "outputId": "21b1f531-f660-49df-cc20-8c2d68a25a81",
                "colab": {
                    "base_uri": "https://localhost:8080/"
                }
            },
            "outputs": [
                {
                    "output_type": "stream",
                    "name": "stdout",
                    "text": [
                        "{'audio': {'path': '2024-04-23T20:12:56.wav', 'array': array([-1.52587891e-05, -1.52587891e-05, -1.52587891e-05, ...,\n",
                        "        2.76184082e-03,  1.49536133e-03,  1.92260742e-03]), 'sampling_rate': 16000}, 'transcription': 'Îți recomand să bei niște vin pentru stomac.'}\n"
                    ]
                }
            ],
            "source": [
                "print(dataset[\"train\"][0])"
            ]
        },
        {
            "cell_type": "markdown",
            "id": "5a679f05-063d-41b3-9b58-4fc9c6ccf4fd",
            "metadata": {
                "id": "5a679f05-063d-41b3-9b58-4fc9c6ccf4fd"
            },
            "source": [
                "Deoarece audiouril pot să fie eșantionate în 48 kHz, trebuie să le convertim în 16 kHz înainte de a-l trece la extractorul caracteristicii Whisper, 16kHz fiind rata de eșantionare așteptată de modelul Whisper. Vom seta intrările audio la rata de eșantionare corectă folosind metoda [`cast_column`](https://huggingface.co/docs/datasets/package_reference/main_classes.html?highlight=cast_column#datasets.DatasetDict.cast_column) a setului de date. Această operațiune nu modifică sunetul în loc, ci mai degrabă semnalizează către „seturi de date” pentru a reeșantiona probe audio _din zbor_ prima dată când sunt încărcate:\n"
            ]
        },
        {
            "cell_type": "code",
            "execution_count": null,
            "id": "f12e2e57-156f-417b-8cfb-69221cc198e8",
            "metadata": {
                "id": "f12e2e57-156f-417b-8cfb-69221cc198e8"
            },
            "outputs": [],
            "source": [
                "from datasets import Audio\n",
                "\n",
                "dataset = dataset.cast_column(\"audio\", Audio(sampling_rate=16000))"
            ]
        },
        {
            "cell_type": "markdown",
            "id": "00382a3e-abec-4cdd-a54c-d1aaa3ea4707",
            "metadata": {
                "id": "00382a3e-abec-4cdd-a54c-d1aaa3ea4707"
            },
            "source": [
                "Reîncărcarea primului eșantion audio din setul de date îl va reeșantiona la rata de eșantionare dorită:\n"
            ]
        },
        {
            "cell_type": "markdown",
            "id": "91edc72d-08f8-4f01-899d-74e65ce441fc",
            "metadata": {
                "id": "91edc72d-08f8-4f01-899d-74e65ce441fc"
            },
            "source": [
                "Acum putem scrie o funcție pentru a pregăti datele noastre pentru model:\n",
                " 1. Încărcăm și reeșantionăm datele audio apelând `batch[\"audio\"]`. După cum s-a explicat mai sus, 🤗 Datasets efectuează orice operațiuni de reeșantionare necesare din mers.\n",
                " 2. Folosim extractorul de caracteristici pentru a calcula caracteristicile de intrare ale spectrogramei log-Mel din matricea noastră audio unidimensională.\n",
                " 3. Codificăm transcripțiile pentru a eticheta ID-uri prin utilizarea tokenizer-ului.\n"
            ]
        },
        {
            "cell_type": "code",
            "execution_count": null,
            "id": "6525c478-8962-4394-a1c4-103c54cce170",
            "metadata": {
                "id": "6525c478-8962-4394-a1c4-103c54cce170"
            },
            "outputs": [],
            "source": [
                "def prepare_dataset(batch):\n",
                "    # load and resample audio data from 48 to 16kHz\n",
                "    audio = batch[\"audio\"]\n",
                "\n",
                "    # compute log-Mel input features from input audio array\n",
                "    batch[\"input_features\"] = feature_extractor(audio[\"array\"], sampling_rate=audio[\"sampling_rate\"]).input_features[0]\n",
                "\n",
                "    # encode target text to label ids\n",
                "    batch[\"labels\"] = tokenizer(batch[\"transcription\"]).input_ids\n",
                "    return batch"
            ]
        },
        {
            "cell_type": "markdown",
            "id": "70b319fb-2439-4ef6-a70d-a47bf41c4a13",
            "metadata": {
                "id": "70b319fb-2439-4ef6-a70d-a47bf41c4a13"
            },
            "source": [
                "Putem aplica funcția de pregătire a datelor la toate exemplele noastre de antrenament folosind metoda `.map` a setului de date. Argumentul `num_proc` specifică câte nuclee CPU să folosească. Setarea `num_proc` > 1 va activa multiprocesarea. Dacă metoda `.map` se blochează cu multiprocesare, setați `num_proc=1` și procesați setul de date secvenţial.\n"
            ]
        },
        {
            "cell_type": "code",
            "execution_count": null,
            "id": "7b73ab39-ffaf-4b9e-86e5-782963c6134b",
            "metadata": {
                "id": "7b73ab39-ffaf-4b9e-86e5-782963c6134b",
                "outputId": "5bd00f0f-8346-4829-e6be-85e4a2c02b8b",
                "colab": {
                    "base_uri": "https://localhost:8080/",
                    "height": 136,
                    "referenced_widgets": [
                        "939ab9a278a2460397a286f6c103f895",
                        "917c3c926075479bbefdd5632aa79747",
                        "1f16f8c31c7f454dbdd029291807dedf",
                        "566b8759f04544ac948c6bb93e2fa6ca",
                        "3e1fbb8844ae4b5a92820d44f12c44a9",
                        "2a6e47b7fc314566b4b0c159b8877dac",
                        "5f27342c9b3a4f6483bcd08832d5934d",
                        "d748e4da5a4a4115b4286a77886cba34",
                        "4305d0998ee24b26a7bb932f4ee80221",
                        "68e37ad98a4e459e8c8cdf490d2175b1",
                        "c518b6cc4f6c46379336347e3ebeaa49",
                        "05c67771c253420d9ea9c1380a8ae073",
                        "f4ed62a6f25a49e48bf4f18e039d6822",
                        "3e930c24ba6f4698beecd0fab272fad7",
                        "9314fef2568043ab90f2589a15dbdc2f",
                        "9caa69775f5448d9b0570b38f0aa7f92",
                        "1a9b8bb2d516433a9fba3c9ba2869c13",
                        "987a7bea05844955b8d9431112007308",
                        "3f41e5cb090f4f6f8c3f3f51ac6ecfe1",
                        "ac141467614842099f11d7fe52ebe581",
                        "be0214f710e049428daac907ee77024b",
                        "5a21dbb431164fa288cbb857ee87e0b7"
                    ]
                }
            },
            "outputs": [
                {
                    "output_type": "display_data",
                    "data": {
                        "text/plain": [
                            "Map (num_proc=2):   0%|          | 0/37 [00:00<?, ? examples/s]"
                        ],
                        "application/vnd.jupyter.widget-view+json": {
                            "version_major": 2,
                            "version_minor": 0,
                            "model_id": "939ab9a278a2460397a286f6c103f895"
                        }
                    },
                    "metadata": {}
                },
                {
                    "output_type": "display_data",
                    "data": {
                        "text/plain": [
                            "Map (num_proc=2):   0%|          | 0/15 [00:00<?, ? examples/s]"
                        ],
                        "application/vnd.jupyter.widget-view+json": {
                            "version_major": 2,
                            "version_minor": 0,
                            "model_id": "05c67771c253420d9ea9c1380a8ae073"
                        }
                    },
                    "metadata": {}
                }
            ],
            "source": [
                "dataset = dataset.map(prepare_dataset, remove_columns=dataset.column_names[\"train\"], num_proc=2)"
            ]
        },
        {
            "cell_type": "markdown",
            "id": "263a5a58-0239-4a25-b0df-c625fc9c5810",
            "metadata": {
                "id": "263a5a58-0239-4a25-b0df-c625fc9c5810"
            },
            "source": [
                "## Instruire și evaluare\n"
            ]
        },
        {
            "cell_type": "markdown",
            "id": "a693e768-c5a6-453f-89a1-b601dcf7daf7",
            "metadata": {
                "id": "a693e768-c5a6-453f-89a1-b601dcf7daf7"
            },
            "source": [
                "Acum că ne-am pregătit datele, suntem gata să ne aprofundăm în conducta de antrenament. [🤗 Antrenorul](https://huggingface.co/transformers/master/main_classes/trainer.html?highlight=trainer) va face o mare parte din munca grea pentru noi. Tot ce trebuie să facem este:\n",
                " - Încărcăm un punct de control pre-antrenat: trebuie să încărcăm un punct de control pre-antrenat și să-l configuram corect pentru antrenament.\n",
                " - Definiți un colator de date: colatorul de date preia datele noastre preprocesate și pregătește tensorii PyTorch gata pentru model.\n",
                " - Valori de evaluare: în timpul evaluării, dorim să evaluăm modelul utilizând valoarea [rata de eroare a cuvintelor (WER)](https://huggingface.co/metrics/wer). Trebuie să definim o funcție `compute_metrics` care se ocupă de acest calcul.\n",
                " - Definiți configurația antrenamentului: aceasta va fi folosită de către 🤗 Trainer pentru a defini programul de antrenament. Odată ce am ajustat modelul, îl vom evalua pe datele testului pentru a verifica dacă l-am antrenat corect pentru a transcrie vorbirea în limba română.\n"
            ]
        },
        {
            "cell_type": "markdown",
            "id": "daf2a825-6d9f-4a23-b145-c37c0039075b",
            "metadata": {
                "id": "daf2a825-6d9f-4a23-b145-c37c0039075b"
            },
            "source": [
                "### Încărcăm un punct de control pre-antrenat\n"
            ]
        },
        {
            "cell_type": "markdown",
            "id": "437a97fa-4864-476b-8abc-f28b8166cfa5",
            "metadata": {
                "id": "437a97fa-4864-476b-8abc-f28b8166cfa5"
            },
            "source": [
                "Vom începe cursa noastră de adjustare fină de la punctul de control pre-antrenat Whisper `small`, Greutățile căruia le vom încărca de pe Hugging Face Hub. Din nou, acest lucru este banal prin utilizarea 🤗 Transformers!\n"
            ]
        },
        {
            "cell_type": "code",
            "execution_count": null,
            "id": "5a10cc4b-07ec-4ebd-ac1d-7c601023594f",
            "metadata": {
                "id": "5a10cc4b-07ec-4ebd-ac1d-7c601023594f"
            },
            "outputs": [],
            "source": [
                "from transformers import WhisperForConditionalGeneration\n",
                "\n",
                "model = WhisperForConditionalGeneration.from_pretrained(**pretrained_model)"
            ]
        },
        {
            "cell_type": "markdown",
            "id": "a15ead5f-2277-4a39-937b-585c2497b2df",
            "metadata": {
                "id": "a15ead5f-2277-4a39-937b-585c2497b2df"
            },
            "source": [
                "Putem dezactiva sarcina de detectare automată a limbii efectuată în timpul inferenței și să forțăm generarea modelului în limba română. Pentru a face acest lucru, setăm [langauge](https://huggingface.co/docs/transformers/en/model_doc/whisper#transformers.WhisperForConditionalGeneration.generate.language) și [sarcina](https://huggingface.co/docs/transformers/en/model_doc/whisper#transformers.WhisperForConditionalGeneration.generate.task) argumente ale config. De asemenea, vom seta orice [`forced_decoder_ids`](https://huggingface.co/docs/transformers/main_classes/text_generation#transformers.generation_utils.GenerationMixin.generate.forced_decoder_ids) la None, deoarece aceasta era modalitatea moștenită de a seta argumente privind limbajul și sarcina:\n"
            ]
        },
        {
            "cell_type": "code",
            "execution_count": null,
            "id": "62038ba3-88ed-4fce-84db-338f50dcd04f",
            "metadata": {
                "id": "62038ba3-88ed-4fce-84db-338f50dcd04f"
            },
            "outputs": [],
            "source": [
                "model.generation_config.language = \"romanian\"\n",
                "model.generation_config.task = \"transcribe\"\n",
                "\n",
                "model.generation_config.forced_decoder_ids = None"
            ]
        },
        {
            "cell_type": "markdown",
            "id": "8d230e6d-624c-400a-bbf5-fa660881df25",
            "metadata": {
                "id": "8d230e6d-624c-400a-bbf5-fa660881df25"
            },
            "source": [
                "### Definim un colector de date\n"
            ]
        },
        {
            "cell_type": "markdown",
            "id": "04def221-0637-4a69-b242-d3f0c1d0ee78",
            "metadata": {
                "id": "04def221-0637-4a69-b242-d3f0c1d0ee78"
            },
            "source": [
                "Colaboratorul de date pentru un model de vorbire secvență-la-secvență este unic în sensul că tratează „input_features” și „labels” independent: „input_features” trebuie să fie gestionat de extractor de caracteristici, iar „labels” de către tokenizer. `Input_features` sunt deja completate la 30 de secunde și convertite într-o spectrogramă log-Mel de dimensiune fixă prin acțiunea extractorului de caracteristici, așa că tot ce trebuie să facem este să convertim `input_features` în tensori PyTorch în loturi. Facem acest lucru folosind metoda `.pad` a extractorului de caracteristici cu `return_tensors=pt`. Pe de altă parte, „etichetele” nu sunt căptușite. Mai întâi adăugăm secvențele la lungimea maximă din lot folosind metoda `.pad` a tokenizerului. Jetoanele de umplutură sunt apoi înlocuite cu `-100`, astfel încât aceste jetoane **n-o** să fie luate în considerare la calcularea pierderii. Apoi tăiem simbolul BOS de la începutul secvenței de etichete, pe măsură ce îl anexăm mai târziu în timpul antrenamentului. Putem folosi `WhisperProcessor` pe care l-am definit mai devreme pentru a efectua atât extractorul de caracteristici, cât și operațiunile de tokenizer:\n"
            ]
        },
        {
            "cell_type": "code",
            "execution_count": null,
            "id": "8326221e-ec13-4731-bb4e-51e5fc1486c5",
            "metadata": {
                "id": "8326221e-ec13-4731-bb4e-51e5fc1486c5"
            },
            "outputs": [],
            "source": [
                "import torch\n",
                "\n",
                "from dataclasses import dataclass\n",
                "from typing import Any, Dict, List, Union\n",
                "\n",
                "@dataclass\n",
                "class DataCollatorSpeechSeq2SeqWithPadding:\n",
                "    processor: Any\n",
                "    decoder_start_token_id: int\n",
                "\n",
                "    def __call__(self, features: List[Dict[str, Union[List[int], torch.Tensor]]]) -> Dict[str, torch.Tensor]:\n",
                "        # split inputs and labels since they have to be of different lengths and need different padding methods\n",
                "        # first treat the audio inputs by simply returning torch tensors\n",
                "        input_features = [{\"input_features\": feature[\"input_features\"]} for feature in features]\n",
                "        batch = self.processor.feature_extractor.pad(input_features, return_tensors=\"pt\")\n",
                "\n",
                "        # get the tokenized label sequences\n",
                "        label_features = [{\"input_ids\": feature[\"labels\"]} for feature in features]\n",
                "        # pad the labels to max length\n",
                "        labels_batch = self.processor.tokenizer.pad(label_features, return_tensors=\"pt\")\n",
                "\n",
                "        # replace padding with -100 to ignore loss correctly\n",
                "        labels = labels_batch[\"input_ids\"].masked_fill(labels_batch.attention_mask.ne(1), -100)\n",
                "\n",
                "        # if bos token is appended in previous tokenization step,\n",
                "        # cut bos token here as it's append later anyways\n",
                "        if (labels[:, 0] == self.decoder_start_token_id).all().cpu().item():\n",
                "            labels = labels[:, 1:]\n",
                "\n",
                "        batch[\"labels\"] = labels\n",
                "\n",
                "        return batch"
            ]
        },
        {
            "cell_type": "markdown",
            "id": "3cae7dbf-8a50-456e-a3a8-7fd005390f86",
            "metadata": {
                "id": "3cae7dbf-8a50-456e-a3a8-7fd005390f86"
            },
            "source": [
                "Să inițializam colatorul de date pe care tocmai l-am definit:\n"
            ]
        },
        {
            "cell_type": "code",
            "execution_count": null,
            "id": "fc834702-c0d3-4a96-b101-7b87be32bf42",
            "metadata": {
                "id": "fc834702-c0d3-4a96-b101-7b87be32bf42"
            },
            "outputs": [],
            "source": [
                "data_collator = DataCollatorSpeechSeq2SeqWithPadding(\n",
                "    processor=processor,\n",
                "    decoder_start_token_id=model.config.decoder_start_token_id,\n",
                ")"
            ]
        },
        {
            "cell_type": "markdown",
            "id": "d62bb2ab-750a-45e7-82e9-61d6f4805698",
            "metadata": {
                "id": "d62bb2ab-750a-45e7-82e9-61d6f4805698"
            },
            "source": [
                "### Valori de evaluare\n"
            ]
        },
        {
            "cell_type": "markdown",
            "id": "66fee1a7-a44c-461e-b047-c3917221572e",
            "metadata": {
                "id": "66fee1a7-a44c-461e-b047-c3917221572e"
            },
            "source": [
                "Vom folosi indicatorul pentru rata de eroare a cuvântului (WER), indicatorul „de facto” pentru evaluarea sistemelor ASR. Pentru mai multe informații, consultați [WER docs](https://huggingface.co/metrics/wer). Vom încărca valoarea WER din 🤗 Evaluate:\n"
            ]
        },
        {
            "cell_type": "code",
            "execution_count": null,
            "id": "b22b4011-f31f-4b57-b684-c52332f92890",
            "metadata": {
                "id": "b22b4011-f31f-4b57-b684-c52332f92890"
            },
            "outputs": [],
            "source": [
                "import evaluate\n",
                "\n",
                "metric = evaluate.load(\"wer\")"
            ]
        },
        {
            "cell_type": "markdown",
            "id": "4f32cab6-31f0-4cb9-af4c-40ba0f5fc508",
            "metadata": {
                "id": "4f32cab6-31f0-4cb9-af4c-40ba0f5fc508"
            },
            "source": [
                "Apoi trebuie pur și simplu să definim o funcție care preia predicțiile modelului nostru și returnează metrica WER. Această funcție, numită `compute_metrics`, înlocuiește mai întâi `-100` cu `pad_token_id` în `label_ids` (anulând pasul pe care l-am aplicat în colatorul de date pentru a ignora corect token-urile padded în pierdere). Apoi decodifică ID-urile prezise și etichetează în șiruri. În cele din urmă, calculează WER între predicții și etichetele de referință:\n"
            ]
        },
        {
            "cell_type": "code",
            "execution_count": null,
            "id": "23959a70-22d0-4ffe-9fa1-72b61e75bb52",
            "metadata": {
                "id": "23959a70-22d0-4ffe-9fa1-72b61e75bb52"
            },
            "outputs": [],
            "source": [
                "def compute_metrics(pred):\n",
                "    pred_ids = pred.predictions\n",
                "    label_ids = pred.label_ids\n",
                "\n",
                "    # replace -100 with the pad_token_id\n",
                "    label_ids[label_ids == -100] = tokenizer.pad_token_id\n",
                "\n",
                "    # we do not want to group tokens when computing the metrics\n",
                "    pred_str = tokenizer.batch_decode(pred_ids, skip_special_tokens=True)\n",
                "    label_str = tokenizer.batch_decode(label_ids, skip_special_tokens=True)\n",
                "\n",
                "    wer = 100 * metric.compute(predictions=pred_str, references=label_str)\n",
                "\n",
                "    return {\"wer\": wer}"
            ]
        },
        {
            "cell_type": "markdown",
            "id": "2178dea4-80ca-47b6-b6ea-ba1915c90c06",
            "metadata": {
                "id": "2178dea4-80ca-47b6-b6ea-ba1915c90c06"
            },
            "source": [
                "### Definim configurația de antrenament\n"
            ]
        },
        {
            "cell_type": "markdown",
            "id": "c21af1e9-0188-4134-ac82-defc7bdcc436",
            "metadata": {
                "id": "c21af1e9-0188-4134-ac82-defc7bdcc436"
            },
            "source": [
                "În pasul final, definim toți parametrii legați de antrenament. Pentru mai multe detalii despre argumentele antrenamentului, consultați [Seq2SeqTrainingArguments docs](https://huggingface.co/docs/transformers/main_classes/trainer#transformers.Seq2SeqTrainingArguments).\n"
            ]
        },
        {
            "cell_type": "code",
            "execution_count": null,
            "id": "0ae3e9af-97b7-4aa0-ae85-20b23b5bcb3a",
            "metadata": {
                "id": "0ae3e9af-97b7-4aa0-ae85-20b23b5bcb3a"
            },
            "outputs": [],
            "source": [
                "from transformers import Seq2SeqTrainingArguments\n",
                "\n",
                "training_args = Seq2SeqTrainingArguments(\n",
                "    output_dir=\"./whisper-small-ro\",  # change to a repo name of your choice\n",
                "    per_device_train_batch_size=16,\n",
                "    gradient_accumulation_steps=1,  # increase by 2x for every 2x decrease in batch size\n",
                "    learning_rate=1e-5,\n",
                "    warmup_steps=50,\n",
                "    max_steps=200,\n",
                "    gradient_checkpointing=True,\n",
                "    fp16=True,\n",
                "    evaluation_strategy=\"steps\",\n",
                "    per_device_eval_batch_size=8,\n",
                "    predict_with_generate=True,\n",
                "    generation_max_length=225,\n",
                "    save_steps=200,\n",
                "    eval_steps=200,\n",
                "    logging_steps=25,\n",
                "    report_to=[\"tensorboard\"],\n",
                "    load_best_model_at_end=True,\n",
                "    metric_for_best_model=\"wer\",\n",
                "    greater_is_better=False,\n",
                "    push_to_hub=True,\n",
                ")"
            ]
        },
        {
            "cell_type": "markdown",
            "id": "b3a944d8-3112-4552-82a0-be25988b3857",
            "metadata": {
                "id": "b3a944d8-3112-4552-82a0-be25988b3857"
            },
            "source": [
                "**Notă**: dacă nu doriți să încărcați punctele de control al modelului în Hub, setați `push_to_hub=False`.\n"
            ]
        },
        {
            "cell_type": "markdown",
            "id": "bac29114-d226-4f54-97cf-8718c9f94e1e",
            "metadata": {
                "id": "bac29114-d226-4f54-97cf-8718c9f94e1e"
            },
            "source": [
                "Putem transmite argumentele antrenamentului către 🤗 Trainer împreună cu modelul nostru, setul de date, colatorul de date și funcția `compute_metrics`:\n"
            ]
        },
        {
            "cell_type": "code",
            "execution_count": null,
            "id": "d546d7fe-0543-479a-b708-2ebabec19493",
            "metadata": {
                "id": "d546d7fe-0543-479a-b708-2ebabec19493"
            },
            "outputs": [],
            "source": [
                "from transformers import Seq2SeqTrainer\n",
                "\n",
                "trainer = Seq2SeqTrainer(\n",
                "    args=training_args,\n",
                "    model=model,\n",
                "    train_dataset=dataset[\"train\"],\n",
                "    eval_dataset=dataset[\"test\"],\n",
                "    data_collator=data_collator,\n",
                "    compute_metrics=compute_metrics,\n",
                "    tokenizer=processor.feature_extractor,\n",
                ")"
            ]
        },
        {
            "cell_type": "markdown",
            "source": [
                "Vom salva o dată obiectul procesorului înainte de a începe antrenamentul. Deoarece procesorul nu poate fi antrenat, nu se va schimba pe parcursul antrenamentului:\n"
            ],
            "metadata": {
                "id": "uOrRhDGtN5S4"
            },
            "id": "uOrRhDGtN5S4"
        },
        {
            "cell_type": "code",
            "source": [
                "processor.save_pretrained(training_args.output_dir)"
            ],
            "metadata": {
                "id": "-2zQwMfEOBJq",
                "outputId": "a127934b-6cd0-446f-e9bc-f68b1410b2a9",
                "colab": {
                    "base_uri": "https://localhost:8080/"
                }
            },
            "id": "-2zQwMfEOBJq",
            "execution_count": null,
            "outputs": [
                {
                    "output_type": "execute_result",
                    "data": {
                        "text/plain": [
                            "[]"
                        ]
                    },
                    "metadata": {},
                    "execution_count": 79
                }
            ]
        },
        {
            "cell_type": "markdown",
            "id": "7f404cf9-4345-468c-8196-4bd101d9bd51",
            "metadata": {
                "id": "7f404cf9-4345-468c-8196-4bd101d9bd51"
            },
            "source": [
                "### Instruire\n"
            ]
        },
        {
            "cell_type": "markdown",
            "id": "5e8b8d56-5a70-4f68-bd2e-f0752d0bd112",
            "metadata": {
                "id": "5e8b8d56-5a70-4f68-bd2e-f0752d0bd112"
            },
            "source": [
                "Formarea a durat 8-10 min, în funcție de GPU-ul dvs. sau de cel alocat acestui Google Colab. Dacă utilizați acest Google Colab direct pentru a regla fin un model Whisper, ar trebui să vă asigurați că antrenamentul nu este întrerupt din cauza inactivității. O soluție simplă pentru a preveni acest lucru este să inserați următorul cod în consola acestei file (_clic dreapta al mouse-ului_ -> _inspect_ -> _fila Consolă_ -> _inserați codul_).\n"
            ]
        },
        {
            "cell_type": "markdown",
            "id": "890a63ed-e87b-4e53-a35a-6ec1eca560af",
            "metadata": {
                "id": "890a63ed-e87b-4e53-a35a-6ec1eca560af"
            },
            "source": [
                "```funcția javascript ConnectButton(){ console.log(\"Conexiune împinsă\"); document.querySelector(\"#top-toolbar > colab-connect-button\").shadowRoot.querySelector(\"#connect\").click() } setInterval(ConnectButton, 60000); ```\n"
            ]
        },
        {
            "cell_type": "markdown",
            "id": "5a55168b-2f46-4678-afa0-ff22257ec06d",
            "metadata": {
                "id": "5a55168b-2f46-4678-afa0-ff22257ec06d"
            },
            "source": [
                "Memoria GPU de vârf pentru configurația de antrenament dată este de aproximativ 15,8 GB. În funcție de GPU-ul alocat Google Colab, este posibil să întâmpinați o eroare CUDA `\"out-of-memory\"` când lansați antrenamentul. În acest caz, puteți reduce `per_device_train_batch_size` treptat cu factori de 2 și utilizați [`gradient_accumulation_steps`](https://huggingface.co/docs/transformers/main_classes/trainer#transformers.Seq2SeqTrainingArguments.gradient_accumulation_steps) pentru a compensa. Pentru a lansa antrenamentul, executați pur și simplu:\n"
            ]
        },
        {
            "cell_type": "code",
            "execution_count": null,
            "id": "ee8b7b8e-1c9a-4d77-9137-1778a629e6de",
            "metadata": {
                "id": "ee8b7b8e-1c9a-4d77-9137-1778a629e6de",
                "outputId": "38a61d36-6c91-408f-bfde-ce3b2e77ce08",
                "colab": {
                    "base_uri": "https://localhost:8080/",
                    "height": 266
                }
            },
            "outputs": [
                {
                    "output_type": "display_data",
                    "data": {
                        "text/plain": [
                            "<IPython.core.display.HTML object>"
                        ],
                        "text/html": [
                            "\n",
                            "    <div>\n",
                            "      \n",
                            "      <progress value='200' max='200' style='width:300px; height:20px; vertical-align: middle;'></progress>\n",
                            "      [200/200 12:11, Epoch 66/67]\n",
                            "    </div>\n",
                            "    <table border=\"1\" class=\"dataframe\">\n",
                            "  <thead>\n",
                            " <tr style=\"text-align: left;\">\n",
                            "      <th>Step</th>\n",
                            "      <th>Training Loss</th>\n",
                            "      <th>Validation Loss</th>\n",
                            "      <th>Wer</th>\n",
                            "    </tr>\n",
                            "  </thead>\n",
                            "  <tbody>\n",
                            "    <tr>\n",
                            "      <td>200</td>\n",
                            "      <td>0.000500</td>\n",
                            "      <td>0.820713</td>\n",
                            "      <td>46.265060</td>\n",
                            "    </tr>\n",
                            "  </tbody>\n",
                            "</table><p>"
                        ]
                    },
                    "metadata": {}
                },
                {
                    "output_type": "execute_result",
                    "data": {
                        "text/plain": [
                            "TrainOutput(global_step=200, training_loss=0.09695319784339518, metrics={'train_runtime': 738.5774, 'train_samples_per_second': 4.333, 'train_steps_per_second': 0.271, 'total_flos': 7.1396028039168e+17, 'train_loss': 0.09695319784339518, 'epoch': 66.66666666666667})"
                        ]
                    },
                    "metadata": {},
                    "execution_count": 80
                }
            ],
            "source": [
                "trainer.train()"
            ]
        },
        {
            "cell_type": "markdown",
            "id": "810ced54-7187-4a06-b2fe-ba6dcca94dc3",
            "metadata": {
                "id": "810ced54-7187-4a06-b2fe-ba6dcca94dc3"
            },
            "source": [
                "Scrim argumentele pentru salvarea modeluiui pe 🤗"
            ]
        },
        {
            "cell_type": "code",
            "execution_count": null,
            "id": "c704f91e-241b-48c9-b8e0-f0da396a9663",
            "metadata": {
                "id": "c704f91e-241b-48c9-b8e0-f0da396a9663"
            },
            "outputs": [],
            "source": [
                "kwargs = {\n",
                "    \"dataset_tags\": dataset_name,\n",
                "    \"dataset\": \"Date audio colectate în cadrul proiectului TekWill\",  # nume pentru setul de date\n",
                "    \"dataset_args\": \"split: test\",\n",
                "    \"language\": \"ro\",\n",
                "    \"model_name\": \"Whisper Small Ro - Iazar\",  # nume pentru modelul nostru\n",
                "    \"finetuned_from\": \"openai/whisper-small\",\n",
                "    \"tasks\": \"automatic-speech-recognition\",\n",
                "}"
            ]
        },
        {
            "cell_type": "markdown",
            "id": "090d676a-f944-4297-a938-a40eda0b2b68",
            "metadata": {
                "id": "090d676a-f944-4297-a938-a40eda0b2b68"
            },
            "source": [
                "Rezultatele antrenamentului pot fi acum încărcate în Hub. Pentru a face acest lucru, executați comanda `push_to_hub` și salvați obiectul preprocesor pe care l-am creat:\n"
            ]
        },
        {
            "cell_type": "code",
            "execution_count": null,
            "id": "d7030622-caf7-4039-939b-6195cdaa2585",
            "metadata": {
                "id": "d7030622-caf7-4039-939b-6195cdaa2585",
                "outputId": "253f4b94-aae6-4caa-f2e0-c0dde3c57f34",
                "colab": {
                    "base_uri": "https://localhost:8080/",
                    "height": 124
                }
            },
            "outputs": [
                {
                    "output_type": "execute_result",
                    "data": {
                        "text/plain": [
                            "CommitInfo(commit_url='https://huggingface.co/Yehoward/whisper-small-ro/commit/76b10b323b8d258a424df10c1464a4dc1f4c372e', commit_message='End of training', commit_description='', oid='76b10b323b8d258a424df10c1464a4dc1f4c372e', pr_url=None, pr_revision=None, pr_num=None)"
                        ],
                        "application/vnd.google.colaboratory.intrinsic+json": {
                            "type": "string"
                        }
                    },
                    "metadata": {},
                    "execution_count": 83
                }
            ],
            "source": [
                "trainer.push_to_hub(**kwargs)"
            ]
        }
    ],
    "metadata": {
        "kernelspec": {
            "display_name": "Python 3",
            "name": "python3"
        },
        "language_info": {
            "codemirror_mode": {
                "name": "ipython",
                "version": 3
            },
            "file_extension": ".py",
            "mimetype": "text/x-python",
            "name": "python",
            "nbconvert_exporter": "python",
            "pygments_lexer": "ipython3",
            "version": "3.8.9"
        },
        "colab": {
            "provenance": [],
            "gpuType": "T4"
        },
        "accelerator": "GPU",
        "widgets": {
            "application/vnd.jupyter.widget-state+json": {
                "12981418b61d4351823fd3d972bdd094": {
                    "model_module": "@jupyter-widgets/controls",
                    "model_name": "VBoxModel",
                    "model_module_version": "1.5.0",
                    "state": {
                        "_dom_classes": [],
                        "_model_module": "@jupyter-widgets/controls",
                        "_model_module_version": "1.5.0",
                        "_model_name": "VBoxModel",
                        "_view_count": null,
                        "_view_module": "@jupyter-widgets/controls",
                        "_view_module_version": "1.5.0",
                        "_view_name": "VBoxView",
                        "box_style": "",
                        "children": [
                            "IPY_MODEL_672b214484164736886d3c3cdfb91a9e",
                            "IPY_MODEL_f44a635eb6544543aa1c9077df551f7c",
                            "IPY_MODEL_cedd9aafe73142e2a670aa6ba0c1aad9",
                            "IPY_MODEL_9321f73bc8364e09bb59af0a656466db"
                        ],
                        "layout": "IPY_MODEL_bfa5acc5edbc4542a42e44b12807fa74"
                    }
                },
                "312d9a79c3d842d89656a6ce309df6c7": {
                    "model_module": "@jupyter-widgets/controls",
                    "model_name": "HTMLModel",
                    "model_module_version": "1.5.0",
                    "state": {
                        "_dom_classes": [],
                        "_model_module": "@jupyter-widgets/controls",
                        "_model_module_version": "1.5.0",
                        "_model_name": "HTMLModel",
                        "_view_count": null,
                        "_view_module": "@jupyter-widgets/controls",
                        "_view_module_version": "1.5.0",
                        "_view_name": "HTMLView",
                        "description": "",
                        "description_tooltip": null,
                        "layout": "IPY_MODEL_e2cde767169c476c92e60ccca67cfb34",
                        "placeholder": "​",
                        "style": "IPY_MODEL_fcc84b50056d4b908970e64e0673111a",
                        "value": "<center> <img\nsrc=https://huggingface.co/front/assets/huggingface_logo-noborder.svg\nalt='Hugging Face'> <br> Copy a token from <a\nhref=\"https://huggingface.co/settings/tokens\" target=\"_blank\">your Hugging Face\ntokens page</a> and paste it below. <br> Immediately click login after copying\nyour token or it might be stored in plain text in this notebook file. </center>"
                    }
                },
                "90f49a3ea222494e91465c971fcf939f": {
                    "model_module": "@jupyter-widgets/controls",
                    "model_name": "PasswordModel",
                    "model_module_version": "1.5.0",
                    "state": {
                        "_dom_classes": [],
                        "_model_module": "@jupyter-widgets/controls",
                        "_model_module_version": "1.5.0",
                        "_model_name": "PasswordModel",
                        "_view_count": null,
                        "_view_module": "@jupyter-widgets/controls",
                        "_view_module_version": "1.5.0",
                        "_view_name": "PasswordView",
                        "continuous_update": true,
                        "description": "Token:",
                        "description_tooltip": null,
                        "disabled": false,
                        "layout": "IPY_MODEL_e2b905d6854a4496908ecbb5e8c54eef",
                        "placeholder": "​",
                        "style": "IPY_MODEL_47e78b995a9944b7a655460f59b85f3f",
                        "value": ""
                    }
                },
                "8cadc2ed6c0b4a66b2fd447c064584da": {
                    "model_module": "@jupyter-widgets/controls",
                    "model_name": "CheckboxModel",
                    "model_module_version": "1.5.0",
                    "state": {
                        "_dom_classes": [],
                        "_model_module": "@jupyter-widgets/controls",
                        "_model_module_version": "1.5.0",
                        "_model_name": "CheckboxModel",
                        "_view_count": null,
                        "_view_module": "@jupyter-widgets/controls",
                        "_view_module_version": "1.5.0",
                        "_view_name": "CheckboxView",
                        "description": "Add token as git credential?",
                        "description_tooltip": null,
                        "disabled": false,
                        "indent": true,
                        "layout": "IPY_MODEL_2e6203ed33a748f188ee9e3924f311c2",
                        "style": "IPY_MODEL_272a04344dea40a286616172bdc91ef2",
                        "value": true
                    }
                },
                "210ca246f99843b4ba72601752719174": {
                    "model_module": "@jupyter-widgets/controls",
                    "model_name": "ButtonModel",
                    "model_module_version": "1.5.0",
                    "state": {
                        "_dom_classes": [],
                        "_model_module": "@jupyter-widgets/controls",
                        "_model_module_version": "1.5.0",
                        "_model_name": "ButtonModel",
                        "_view_count": null,
                        "_view_module": "@jupyter-widgets/controls",
                        "_view_module_version": "1.5.0",
                        "_view_name": "ButtonView",
                        "button_style": "",
                        "description": "Login",
                        "disabled": false,
                        "icon": "",
                        "layout": "IPY_MODEL_662b2b2b86cf466b8cc679976403935b",
                        "style": "IPY_MODEL_6ab1c4b915f94da5a54b9e11519f18c2",
                        "tooltip": ""
                    }
                },
                "f5006269e14a4ce280a6d34dc2643249": {
                    "model_module": "@jupyter-widgets/controls",
                    "model_name": "HTMLModel",
                    "model_module_version": "1.5.0",
                    "state": {
                        "_dom_classes": [],
                        "_model_module": "@jupyter-widgets/controls",
                        "_model_module_version": "1.5.0",
                        "_model_name": "HTMLModel",
                        "_view_count": null,
                        "_view_module": "@jupyter-widgets/controls",
                        "_view_module_version": "1.5.0",
                        "_view_name": "HTMLView",
                        "description": "",
                        "description_tooltip": null,
                        "layout": "IPY_MODEL_db5ce534d51b4f209a43350391a5d007",
                        "placeholder": "​",
                        "style": "IPY_MODEL_3e902f82833b4612a72e85876a7dece4",
                        "value": "\n<b>Pro Tip:</b> If you don't already have one, you can create a dedicated\n'notebooks' token with 'write' access, that you can then easily reuse for all\nnotebooks. </center>"
                    }
                },
                "bfa5acc5edbc4542a42e44b12807fa74": {
                    "model_module": "@jupyter-widgets/base",
                    "model_name": "LayoutModel",
                    "model_module_version": "1.2.0",
                    "state": {
                        "_model_module": "@jupyter-widgets/base",
                        "_model_module_version": "1.2.0",
                        "_model_name": "LayoutModel",
                        "_view_count": null,
                        "_view_module": "@jupyter-widgets/base",
                        "_view_module_version": "1.2.0",
                        "_view_name": "LayoutView",
                        "align_content": null,
                        "align_items": "center",
                        "align_self": null,
                        "border": null,
                        "bottom": null,
                        "display": "flex",
                        "flex": null,
                        "flex_flow": "column",
                        "grid_area": null,
                        "grid_auto_columns": null,
                        "grid_auto_flow": null,
                        "grid_auto_rows": null,
                        "grid_column": null,
                        "grid_gap": null,
                        "grid_row": null,
                        "grid_template_areas": null,
                        "grid_template_columns": null,
                        "grid_template_rows": null,
                        "height": null,
                        "justify_content": null,
                        "justify_items": null,
                        "left": null,
                        "margin": null,
                        "max_height": null,
                        "max_width": null,
                        "min_height": null,
                        "min_width": null,
                        "object_fit": null,
                        "object_position": null,
                        "order": null,
                        "overflow": null,
                        "overflow_x": null,
                        "overflow_y": null,
                        "padding": null,
                        "right": null,
                        "top": null,
                        "visibility": null,
                        "width": "50%"
                    }
                },
                "e2cde767169c476c92e60ccca67cfb34": {
                    "model_module": "@jupyter-widgets/base",
                    "model_name": "LayoutModel",
                    "model_module_version": "1.2.0",
                    "state": {
                        "_model_module": "@jupyter-widgets/base",
                        "_model_module_version": "1.2.0",
                        "_model_name": "LayoutModel",
                        "_view_count": null,
                        "_view_module": "@jupyter-widgets/base",
                        "_view_module_version": "1.2.0",
                        "_view_name": "LayoutView",
                        "align_content": null,
                        "align_items": null,
                        "align_self": null,
                        "border": null,
                        "bottom": null,
                        "display": null,
                        "flex": null,
                        "flex_flow": null,
                        "grid_area": null,
                        "grid_auto_columns": null,
                        "grid_auto_flow": null,
                        "grid_auto_rows": null,
                        "grid_column": null,
                        "grid_gap": null,
                        "grid_row": null,
                        "grid_template_areas": null,
                        "grid_template_columns": null,
                        "grid_template_rows": null,
                        "height": null,
                        "justify_content": null,
                        "justify_items": null,
                        "left": null,
                        "margin": null,
                        "max_height": null,
                        "max_width": null,
                        "min_height": null,
                        "min_width": null,
                        "object_fit": null,
                        "object_position": null,
                        "order": null,
                        "overflow": null,
                        "overflow_x": null,
                        "overflow_y": null,
                        "padding": null,
                        "right": null,
                        "top": null,
                        "visibility": null,
                        "width": null
                    }
                },
                "fcc84b50056d4b908970e64e0673111a": {
                    "model_module": "@jupyter-widgets/controls",
                    "model_name": "DescriptionStyleModel",
                    "model_module_version": "1.5.0",
                    "state": {
                        "_model_module": "@jupyter-widgets/controls",
                        "_model_module_version": "1.5.0",
                        "_model_name": "DescriptionStyleModel",
                        "_view_count": null,
                        "_view_module": "@jupyter-widgets/base",
                        "_view_module_version": "1.2.0",
                        "_view_name": "StyleView",
                        "description_width": ""
                    }
                },
                "e2b905d6854a4496908ecbb5e8c54eef": {
                    "model_module": "@jupyter-widgets/base",
                    "model_name": "LayoutModel",
                    "model_module_version": "1.2.0",
                    "state": {
                        "_model_module": "@jupyter-widgets/base",
                        "_model_module_version": "1.2.0",
                        "_model_name": "LayoutModel",
                        "_view_count": null,
                        "_view_module": "@jupyter-widgets/base",
                        "_view_module_version": "1.2.0",
                        "_view_name": "LayoutView",
                        "align_content": null,
                        "align_items": null,
                        "align_self": null,
                        "border": null,
                        "bottom": null,
                        "display": null,
                        "flex": null,
                        "flex_flow": null,
                        "grid_area": null,
                        "grid_auto_columns": null,
                        "grid_auto_flow": null,
                        "grid_auto_rows": null,
                        "grid_column": null,
                        "grid_gap": null,
                        "grid_row": null,
                        "grid_template_areas": null,
                        "grid_template_columns": null,
                        "grid_template_rows": null,
                        "height": null,
                        "justify_content": null,
                        "justify_items": null,
                        "left": null,
                        "margin": null,
                        "max_height": null,
                        "max_width": null,
                        "min_height": null,
                        "min_width": null,
                        "object_fit": null,
                        "object_position": null,
                        "order": null,
                        "overflow": null,
                        "overflow_x": null,
                        "overflow_y": null,
                        "padding": null,
                        "right": null,
                        "top": null,
                        "visibility": null,
                        "width": null
                    }
                },
                "47e78b995a9944b7a655460f59b85f3f": {
                    "model_module": "@jupyter-widgets/controls",
                    "model_name": "DescriptionStyleModel",
                    "model_module_version": "1.5.0",
                    "state": {
                        "_model_module": "@jupyter-widgets/controls",
                        "_model_module_version": "1.5.0",
                        "_model_name": "DescriptionStyleModel",
                        "_view_count": null,
                        "_view_module": "@jupyter-widgets/base",
                        "_view_module_version": "1.2.0",
                        "_view_name": "StyleView",
                        "description_width": ""
                    }
                },
                "2e6203ed33a748f188ee9e3924f311c2": {
                    "model_module": "@jupyter-widgets/base",
                    "model_name": "LayoutModel",
                    "model_module_version": "1.2.0",
                    "state": {
                        "_model_module": "@jupyter-widgets/base",
                        "_model_module_version": "1.2.0",
                        "_model_name": "LayoutModel",
                        "_view_count": null,
                        "_view_module": "@jupyter-widgets/base",
                        "_view_module_version": "1.2.0",
                        "_view_name": "LayoutView",
                        "align_content": null,
                        "align_items": null,
                        "align_self": null,
                        "border": null,
                        "bottom": null,
                        "display": null,
                        "flex": null,
                        "flex_flow": null,
                        "grid_area": null,
                        "grid_auto_columns": null,
                        "grid_auto_flow": null,
                        "grid_auto_rows": null,
                        "grid_column": null,
                        "grid_gap": null,
                        "grid_row": null,
                        "grid_template_areas": null,
                        "grid_template_columns": null,
                        "grid_template_rows": null,
                        "height": null,
                        "justify_content": null,
                        "justify_items": null,
                        "left": null,
                        "margin": null,
                        "max_height": null,
                        "max_width": null,
                        "min_height": null,
                        "min_width": null,
                        "object_fit": null,
                        "object_position": null,
                        "order": null,
                        "overflow": null,
                        "overflow_x": null,
                        "overflow_y": null,
                        "padding": null,
                        "right": null,
                        "top": null,
                        "visibility": null,
                        "width": null
                    }
                },
                "272a04344dea40a286616172bdc91ef2": {
                    "model_module": "@jupyter-widgets/controls",
                    "model_name": "DescriptionStyleModel",
                    "model_module_version": "1.5.0",
                    "state": {
                        "_model_module": "@jupyter-widgets/controls",
                        "_model_module_version": "1.5.0",
                        "_model_name": "DescriptionStyleModel",
                        "_view_count": null,
                        "_view_module": "@jupyter-widgets/base",
                        "_view_module_version": "1.2.0",
                        "_view_name": "StyleView",
                        "description_width": ""
                    }
                },
                "662b2b2b86cf466b8cc679976403935b": {
                    "model_module": "@jupyter-widgets/base",
                    "model_name": "LayoutModel",
                    "model_module_version": "1.2.0",
                    "state": {
                        "_model_module": "@jupyter-widgets/base",
                        "_model_module_version": "1.2.0",
                        "_model_name": "LayoutModel",
                        "_view_count": null,
                        "_view_module": "@jupyter-widgets/base",
                        "_view_module_version": "1.2.0",
                        "_view_name": "LayoutView",
                        "align_content": null,
                        "align_items": null,
                        "align_self": null,
                        "border": null,
                        "bottom": null,
                        "display": null,
                        "flex": null,
                        "flex_flow": null,
                        "grid_area": null,
                        "grid_auto_columns": null,
                        "grid_auto_flow": null,
                        "grid_auto_rows": null,
                        "grid_column": null,
                        "grid_gap": null,
                        "grid_row": null,
                        "grid_template_areas": null,
                        "grid_template_columns": null,
                        "grid_template_rows": null,
                        "height": null,
                        "justify_content": null,
                        "justify_items": null,
                        "left": null,
                        "margin": null,
                        "max_height": null,
                        "max_width": null,
                        "min_height": null,
                        "min_width": null,
                        "object_fit": null,
                        "object_position": null,
                        "order": null,
                        "overflow": null,
                        "overflow_x": null,
                        "overflow_y": null,
                        "padding": null,
                        "right": null,
                        "top": null,
                        "visibility": null,
                        "width": null
                    }
                },
                "6ab1c4b915f94da5a54b9e11519f18c2": {
                    "model_module": "@jupyter-widgets/controls",
                    "model_name": "ButtonStyleModel",
                    "model_module_version": "1.5.0",
                    "state": {
                        "_model_module": "@jupyter-widgets/controls",
                        "_model_module_version": "1.5.0",
                        "_model_name": "ButtonStyleModel",
                        "_view_count": null,
                        "_view_module": "@jupyter-widgets/base",
                        "_view_module_version": "1.2.0",
                        "_view_name": "StyleView",
                        "button_color": null,
                        "font_weight": ""
                    }
                },
                "db5ce534d51b4f209a43350391a5d007": {
                    "model_module": "@jupyter-widgets/base",
                    "model_name": "LayoutModel",
                    "model_module_version": "1.2.0",
                    "state": {
                        "_model_module": "@jupyter-widgets/base",
                        "_model_module_version": "1.2.0",
                        "_model_name": "LayoutModel",
                        "_view_count": null,
                        "_view_module": "@jupyter-widgets/base",
                        "_view_module_version": "1.2.0",
                        "_view_name": "LayoutView",
                        "align_content": null,
                        "align_items": null,
                        "align_self": null,
                        "border": null,
                        "bottom": null,
                        "display": null,
                        "flex": null,
                        "flex_flow": null,
                        "grid_area": null,
                        "grid_auto_columns": null,
                        "grid_auto_flow": null,
                        "grid_auto_rows": null,
                        "grid_column": null,
                        "grid_gap": null,
                        "grid_row": null,
                        "grid_template_areas": null,
                        "grid_template_columns": null,
                        "grid_template_rows": null,
                        "height": null,
                        "justify_content": null,
                        "justify_items": null,
                        "left": null,
                        "margin": null,
                        "max_height": null,
                        "max_width": null,
                        "min_height": null,
                        "min_width": null,
                        "object_fit": null,
                        "object_position": null,
                        "order": null,
                        "overflow": null,
                        "overflow_x": null,
                        "overflow_y": null,
                        "padding": null,
                        "right": null,
                        "top": null,
                        "visibility": null,
                        "width": null
                    }
                },
                "3e902f82833b4612a72e85876a7dece4": {
                    "model_module": "@jupyter-widgets/controls",
                    "model_name": "DescriptionStyleModel",
                    "model_module_version": "1.5.0",
                    "state": {
                        "_model_module": "@jupyter-widgets/controls",
                        "_model_module_version": "1.5.0",
                        "_model_name": "DescriptionStyleModel",
                        "_view_count": null,
                        "_view_module": "@jupyter-widgets/base",
                        "_view_module_version": "1.2.0",
                        "_view_name": "StyleView",
                        "description_width": ""
                    }
                },
                "00dc75e695ec438eb7574917aa31203d": {
                    "model_module": "@jupyter-widgets/controls",
                    "model_name": "LabelModel",
                    "model_module_version": "1.5.0",
                    "state": {
                        "_dom_classes": [],
                        "_model_module": "@jupyter-widgets/controls",
                        "_model_module_version": "1.5.0",
                        "_model_name": "LabelModel",
                        "_view_count": null,
                        "_view_module": "@jupyter-widgets/controls",
                        "_view_module_version": "1.5.0",
                        "_view_name": "LabelView",
                        "description": "",
                        "description_tooltip": null,
                        "layout": "IPY_MODEL_201f45c09059491e854044e0daf81e8b",
                        "placeholder": "​",
                        "style": "IPY_MODEL_17a1c76330fe4abd946f5b2465e5a996",
                        "value": "Connecting..."
                    }
                },
                "201f45c09059491e854044e0daf81e8b": {
                    "model_module": "@jupyter-widgets/base",
                    "model_name": "LayoutModel",
                    "model_module_version": "1.2.0",
                    "state": {
                        "_model_module": "@jupyter-widgets/base",
                        "_model_module_version": "1.2.0",
                        "_model_name": "LayoutModel",
                        "_view_count": null,
                        "_view_module": "@jupyter-widgets/base",
                        "_view_module_version": "1.2.0",
                        "_view_name": "LayoutView",
                        "align_content": null,
                        "align_items": null,
                        "align_self": null,
                        "border": null,
                        "bottom": null,
                        "display": null,
                        "flex": null,
                        "flex_flow": null,
                        "grid_area": null,
                        "grid_auto_columns": null,
                        "grid_auto_flow": null,
                        "grid_auto_rows": null,
                        "grid_column": null,
                        "grid_gap": null,
                        "grid_row": null,
                        "grid_template_areas": null,
                        "grid_template_columns": null,
                        "grid_template_rows": null,
                        "height": null,
                        "justify_content": null,
                        "justify_items": null,
                        "left": null,
                        "margin": null,
                        "max_height": null,
                        "max_width": null,
                        "min_height": null,
                        "min_width": null,
                        "object_fit": null,
                        "object_position": null,
                        "order": null,
                        "overflow": null,
                        "overflow_x": null,
                        "overflow_y": null,
                        "padding": null,
                        "right": null,
                        "top": null,
                        "visibility": null,
                        "width": null
                    }
                },
                "17a1c76330fe4abd946f5b2465e5a996": {
                    "model_module": "@jupyter-widgets/controls",
                    "model_name": "DescriptionStyleModel",
                    "model_module_version": "1.5.0",
                    "state": {
                        "_model_module": "@jupyter-widgets/controls",
                        "_model_module_version": "1.5.0",
                        "_model_name": "DescriptionStyleModel",
                        "_view_count": null,
                        "_view_module": "@jupyter-widgets/base",
                        "_view_module_version": "1.2.0",
                        "_view_name": "StyleView",
                        "description_width": ""
                    }
                },
                "672b214484164736886d3c3cdfb91a9e": {
                    "model_module": "@jupyter-widgets/controls",
                    "model_name": "LabelModel",
                    "model_module_version": "1.5.0",
                    "state": {
                        "_dom_classes": [],
                        "_model_module": "@jupyter-widgets/controls",
                        "_model_module_version": "1.5.0",
                        "_model_name": "LabelModel",
                        "_view_count": null,
                        "_view_module": "@jupyter-widgets/controls",
                        "_view_module_version": "1.5.0",
                        "_view_name": "LabelView",
                        "description": "",
                        "description_tooltip": null,
                        "layout": "IPY_MODEL_3de8144b143b47a890959a190a2898df",
                        "placeholder": "​",
                        "style": "IPY_MODEL_127b74e331d54ee881a2a6d0f5f99afd",
                        "value": "Token is valid (permission: write)."
                    }
                },
                "f44a635eb6544543aa1c9077df551f7c": {
                    "model_module": "@jupyter-widgets/controls",
                    "model_name": "LabelModel",
                    "model_module_version": "1.5.0",
                    "state": {
                        "_dom_classes": [],
                        "_model_module": "@jupyter-widgets/controls",
                        "_model_module_version": "1.5.0",
                        "_model_name": "LabelModel",
                        "_view_count": null,
                        "_view_module": "@jupyter-widgets/controls",
                        "_view_module_version": "1.5.0",
                        "_view_name": "LabelView",
                        "description": "",
                        "description_tooltip": null,
                        "layout": "IPY_MODEL_3fc9eeba2d624b1ab45c0501c1a30d4f",
                        "placeholder": "​",
                        "style": "IPY_MODEL_5820c83b66f747ee8c56d664f499d681",
                        "value": "Your token has been saved in your configured git credential helpers (store)."
                    }
                },
                "cedd9aafe73142e2a670aa6ba0c1aad9": {
                    "model_module": "@jupyter-widgets/controls",
                    "model_name": "LabelModel",
                    "model_module_version": "1.5.0",
                    "state": {
                        "_dom_classes": [],
                        "_model_module": "@jupyter-widgets/controls",
                        "_model_module_version": "1.5.0",
                        "_model_name": "LabelModel",
                        "_view_count": null,
                        "_view_module": "@jupyter-widgets/controls",
                        "_view_module_version": "1.5.0",
                        "_view_name": "LabelView",
                        "description": "",
                        "description_tooltip": null,
                        "layout": "IPY_MODEL_a58d8893c5ff44b7af1a13558c179d14",
                        "placeholder": "​",
                        "style": "IPY_MODEL_f87979cc00714dcebd13ac153c133aaf",
                        "value": "Your token has been saved to /root/.cache/huggingface/token"
                    }
                },
                "9321f73bc8364e09bb59af0a656466db": {
                    "model_module": "@jupyter-widgets/controls",
                    "model_name": "LabelModel",
                    "model_module_version": "1.5.0",
                    "state": {
                        "_dom_classes": [],
                        "_model_module": "@jupyter-widgets/controls",
                        "_model_module_version": "1.5.0",
                        "_model_name": "LabelModel",
                        "_view_count": null,
                        "_view_module": "@jupyter-widgets/controls",
                        "_view_module_version": "1.5.0",
                        "_view_name": "LabelView",
                        "description": "",
                        "description_tooltip": null,
                        "layout": "IPY_MODEL_cd7a74661d754bd18ef7f265f95bde4d",
                        "placeholder": "​",
                        "style": "IPY_MODEL_bc602719fac040dc9bbefb5b48e03b6f",
                        "value": "Login successful"
                    }
                },
                "3de8144b143b47a890959a190a2898df": {
                    "model_module": "@jupyter-widgets/base",
                    "model_name": "LayoutModel",
                    "model_module_version": "1.2.0",
                    "state": {
                        "_model_module": "@jupyter-widgets/base",
                        "_model_module_version": "1.2.0",
                        "_model_name": "LayoutModel",
                        "_view_count": null,
                        "_view_module": "@jupyter-widgets/base",
                        "_view_module_version": "1.2.0",
                        "_view_name": "LayoutView",
                        "align_content": null,
                        "align_items": null,
                        "align_self": null,
                        "border": null,
                        "bottom": null,
                        "display": null,
                        "flex": null,
                        "flex_flow": null,
                        "grid_area": null,
                        "grid_auto_columns": null,
                        "grid_auto_flow": null,
                        "grid_auto_rows": null,
                        "grid_column": null,
                        "grid_gap": null,
                        "grid_row": null,
                        "grid_template_areas": null,
                        "grid_template_columns": null,
                        "grid_template_rows": null,
                        "height": null,
                        "justify_content": null,
                        "justify_items": null,
                        "left": null,
                        "margin": null,
                        "max_height": null,
                        "max_width": null,
                        "min_height": null,
                        "min_width": null,
                        "object_fit": null,
                        "object_position": null,
                        "order": null,
                        "overflow": null,
                        "overflow_x": null,
                        "overflow_y": null,
                        "padding": null,
                        "right": null,
                        "top": null,
                        "visibility": null,
                        "width": null
                    }
                },
                "127b74e331d54ee881a2a6d0f5f99afd": {
                    "model_module": "@jupyter-widgets/controls",
                    "model_name": "DescriptionStyleModel",
                    "model_module_version": "1.5.0",
                    "state": {
                        "_model_module": "@jupyter-widgets/controls",
                        "_model_module_version": "1.5.0",
                        "_model_name": "DescriptionStyleModel",
                        "_view_count": null,
                        "_view_module": "@jupyter-widgets/base",
                        "_view_module_version": "1.2.0",
                        "_view_name": "StyleView",
                        "description_width": ""
                    }
                },
                "3fc9eeba2d624b1ab45c0501c1a30d4f": {
                    "model_module": "@jupyter-widgets/base",
                    "model_name": "LayoutModel",
                    "model_module_version": "1.2.0",
                    "state": {
                        "_model_module": "@jupyter-widgets/base",
                        "_model_module_version": "1.2.0",
                        "_model_name": "LayoutModel",
                        "_view_count": null,
                        "_view_module": "@jupyter-widgets/base",
                        "_view_module_version": "1.2.0",
                        "_view_name": "LayoutView",
                        "align_content": null,
                        "align_items": null,
                        "align_self": null,
                        "border": null,
                        "bottom": null,
                        "display": null,
                        "flex": null,
                        "flex_flow": null,
                        "grid_area": null,
                        "grid_auto_columns": null,
                        "grid_auto_flow": null,
                        "grid_auto_rows": null,
                        "grid_column": null,
                        "grid_gap": null,
                        "grid_row": null,
                        "grid_template_areas": null,
                        "grid_template_columns": null,
                        "grid_template_rows": null,
                        "height": null,
                        "justify_content": null,
                        "justify_items": null,
                        "left": null,
                        "margin": null,
                        "max_height": null,
                        "max_width": null,
                        "min_height": null,
                        "min_width": null,
                        "object_fit": null,
                        "object_position": null,
                        "order": null,
                        "overflow": null,
                        "overflow_x": null,
                        "overflow_y": null,
                        "padding": null,
                        "right": null,
                        "top": null,
                        "visibility": null,
                        "width": null
                    }
                },
                "5820c83b66f747ee8c56d664f499d681": {
                    "model_module": "@jupyter-widgets/controls",
                    "model_name": "DescriptionStyleModel",
                    "model_module_version": "1.5.0",
                    "state": {
                        "_model_module": "@jupyter-widgets/controls",
                        "_model_module_version": "1.5.0",
                        "_model_name": "DescriptionStyleModel",
                        "_view_count": null,
                        "_view_module": "@jupyter-widgets/base",
                        "_view_module_version": "1.2.0",
                        "_view_name": "StyleView",
                        "description_width": ""
                    }
                },
                "a58d8893c5ff44b7af1a13558c179d14": {
                    "model_module": "@jupyter-widgets/base",
                    "model_name": "LayoutModel",
                    "model_module_version": "1.2.0",
                    "state": {
                        "_model_module": "@jupyter-widgets/base",
                        "_model_module_version": "1.2.0",
                        "_model_name": "LayoutModel",
                        "_view_count": null,
                        "_view_module": "@jupyter-widgets/base",
                        "_view_module_version": "1.2.0",
                        "_view_name": "LayoutView",
                        "align_content": null,
                        "align_items": null,
                        "align_self": null,
                        "border": null,
                        "bottom": null,
                        "display": null,
                        "flex": null,
                        "flex_flow": null,
                        "grid_area": null,
                        "grid_auto_columns": null,
                        "grid_auto_flow": null,
                        "grid_auto_rows": null,
                        "grid_column": null,
                        "grid_gap": null,
                        "grid_row": null,
                        "grid_template_areas": null,
                        "grid_template_columns": null,
                        "grid_template_rows": null,
                        "height": null,
                        "justify_content": null,
                        "justify_items": null,
                        "left": null,
                        "margin": null,
                        "max_height": null,
                        "max_width": null,
                        "min_height": null,
                        "min_width": null,
                        "object_fit": null,
                        "object_position": null,
                        "order": null,
                        "overflow": null,
                        "overflow_x": null,
                        "overflow_y": null,
                        "padding": null,
                        "right": null,
                        "top": null,
                        "visibility": null,
                        "width": null
                    }
                },
                "f87979cc00714dcebd13ac153c133aaf": {
                    "model_module": "@jupyter-widgets/controls",
                    "model_name": "DescriptionStyleModel",
                    "model_module_version": "1.5.0",
                    "state": {
                        "_model_module": "@jupyter-widgets/controls",
                        "_model_module_version": "1.5.0",
                        "_model_name": "DescriptionStyleModel",
                        "_view_count": null,
                        "_view_module": "@jupyter-widgets/base",
                        "_view_module_version": "1.2.0",
                        "_view_name": "StyleView",
                        "description_width": ""
                    }
                },
                "cd7a74661d754bd18ef7f265f95bde4d": {
                    "model_module": "@jupyter-widgets/base",
                    "model_name": "LayoutModel",
                    "model_module_version": "1.2.0",
                    "state": {
                        "_model_module": "@jupyter-widgets/base",
                        "_model_module_version": "1.2.0",
                        "_model_name": "LayoutModel",
                        "_view_count": null,
                        "_view_module": "@jupyter-widgets/base",
                        "_view_module_version": "1.2.0",
                        "_view_name": "LayoutView",
                        "align_content": null,
                        "align_items": null,
                        "align_self": null,
                        "border": null,
                        "bottom": null,
                        "display": null,
                        "flex": null,
                        "flex_flow": null,
                        "grid_area": null,
                        "grid_auto_columns": null,
                        "grid_auto_flow": null,
                        "grid_auto_rows": null,
                        "grid_column": null,
                        "grid_gap": null,
                        "grid_row": null,
                        "grid_template_areas": null,
                        "grid_template_columns": null,
                        "grid_template_rows": null,
                        "height": null,
                        "justify_content": null,
                        "justify_items": null,
                        "left": null,
                        "margin": null,
                        "max_height": null,
                        "max_width": null,
                        "min_height": null,
                        "min_width": null,
                        "object_fit": null,
                        "object_position": null,
                        "order": null,
                        "overflow": null,
                        "overflow_x": null,
                        "overflow_y": null,
                        "padding": null,
                        "right": null,
                        "top": null,
                        "visibility": null,
                        "width": null
                    }
                },
                "bc602719fac040dc9bbefb5b48e03b6f": {
                    "model_module": "@jupyter-widgets/controls",
                    "model_name": "DescriptionStyleModel",
                    "model_module_version": "1.5.0",
                    "state": {
                        "_model_module": "@jupyter-widgets/controls",
                        "_model_module_version": "1.5.0",
                        "_model_name": "DescriptionStyleModel",
                        "_view_count": null,
                        "_view_module": "@jupyter-widgets/base",
                        "_view_module_version": "1.2.0",
                        "_view_name": "StyleView",
                        "description_width": ""
                    }
                },
                "adad986997e94e1eb6d8a05f018ea372": {
                    "model_module": "@jupyter-widgets/controls",
                    "model_name": "HBoxModel",
                    "model_module_version": "1.5.0",
                    "state": {
                        "_dom_classes": [],
                        "_model_module": "@jupyter-widgets/controls",
                        "_model_module_version": "1.5.0",
                        "_model_name": "HBoxModel",
                        "_view_count": null,
                        "_view_module": "@jupyter-widgets/controls",
                        "_view_module_version": "1.5.0",
                        "_view_name": "HBoxView",
                        "box_style": "",
                        "children": [
                            "IPY_MODEL_5088d3108cc9471dbb1c2560a595e98f",
                            "IPY_MODEL_c07822b20341442581a77d3161cec932",
                            "IPY_MODEL_db8d1706ea89498a9021e74a92874a4b"
                        ],
                        "layout": "IPY_MODEL_936f62abc91143eba85acdbec76748c3"
                    }
                },
                "5088d3108cc9471dbb1c2560a595e98f": {
                    "model_module": "@jupyter-widgets/controls",
                    "model_name": "HTMLModel",
                    "model_module_version": "1.5.0",
                    "state": {
                        "_dom_classes": [],
                        "_model_module": "@jupyter-widgets/controls",
                        "_model_module_version": "1.5.0",
                        "_model_name": "HTMLModel",
                        "_view_count": null,
                        "_view_module": "@jupyter-widgets/controls",
                        "_view_module_version": "1.5.0",
                        "_view_name": "HTMLView",
                        "description": "",
                        "description_tooltip": null,
                        "layout": "IPY_MODEL_c167001d06ad4591bc400e96c75b4e1d",
                        "placeholder": "​",
                        "style": "IPY_MODEL_ad465ece0efe4e1f937aa42891983488",
                        "value": "tokenizer_config.json: 100%"
                    }
                },
                "c07822b20341442581a77d3161cec932": {
                    "model_module": "@jupyter-widgets/controls",
                    "model_name": "FloatProgressModel",
                    "model_module_version": "1.5.0",
                    "state": {
                        "_dom_classes": [],
                        "_model_module": "@jupyter-widgets/controls",
                        "_model_module_version": "1.5.0",
                        "_model_name": "FloatProgressModel",
                        "_view_count": null,
                        "_view_module": "@jupyter-widgets/controls",
                        "_view_module_version": "1.5.0",
                        "_view_name": "ProgressView",
                        "bar_style": "success",
                        "description": "",
                        "description_tooltip": null,
                        "layout": "IPY_MODEL_3faad827ecfb4b3d84d957c2ebde7661",
                        "max": 282683,
                        "min": 0,
                        "orientation": "horizontal",
                        "style": "IPY_MODEL_6f78be2144e649598da818754e5299af",
                        "value": 282683
                    }
                },
                "db8d1706ea89498a9021e74a92874a4b": {
                    "model_module": "@jupyter-widgets/controls",
                    "model_name": "HTMLModel",
                    "model_module_version": "1.5.0",
                    "state": {
                        "_dom_classes": [],
                        "_model_module": "@jupyter-widgets/controls",
                        "_model_module_version": "1.5.0",
                        "_model_name": "HTMLModel",
                        "_view_count": null,
                        "_view_module": "@jupyter-widgets/controls",
                        "_view_module_version": "1.5.0",
                        "_view_name": "HTMLView",
                        "description": "",
                        "description_tooltip": null,
                        "layout": "IPY_MODEL_8627c23679414a7298788e56f36b2152",
                        "placeholder": "​",
                        "style": "IPY_MODEL_cd052a4d31804b4a9be506f43fe8364c",
                        "value": " 283k/283k [00:00&lt;00:00, 5.24MB/s]"
                    }
                },
                "936f62abc91143eba85acdbec76748c3": {
                    "model_module": "@jupyter-widgets/base",
                    "model_name": "LayoutModel",
                    "model_module_version": "1.2.0",
                    "state": {
                        "_model_module": "@jupyter-widgets/base",
                        "_model_module_version": "1.2.0",
                        "_model_name": "LayoutModel",
                        "_view_count": null,
                        "_view_module": "@jupyter-widgets/base",
                        "_view_module_version": "1.2.0",
                        "_view_name": "LayoutView",
                        "align_content": null,
                        "align_items": null,
                        "align_self": null,
                        "border": null,
                        "bottom": null,
                        "display": null,
                        "flex": null,
                        "flex_flow": null,
                        "grid_area": null,
                        "grid_auto_columns": null,
                        "grid_auto_flow": null,
                        "grid_auto_rows": null,
                        "grid_column": null,
                        "grid_gap": null,
                        "grid_row": null,
                        "grid_template_areas": null,
                        "grid_template_columns": null,
                        "grid_template_rows": null,
                        "height": null,
                        "justify_content": null,
                        "justify_items": null,
                        "left": null,
                        "margin": null,
                        "max_height": null,
                        "max_width": null,
                        "min_height": null,
                        "min_width": null,
                        "object_fit": null,
                        "object_position": null,
                        "order": null,
                        "overflow": null,
                        "overflow_x": null,
                        "overflow_y": null,
                        "padding": null,
                        "right": null,
                        "top": null,
                        "visibility": null,
                        "width": null
                    }
                },
                "c167001d06ad4591bc400e96c75b4e1d": {
                    "model_module": "@jupyter-widgets/base",
                    "model_name": "LayoutModel",
                    "model_module_version": "1.2.0",
                    "state": {
                        "_model_module": "@jupyter-widgets/base",
                        "_model_module_version": "1.2.0",
                        "_model_name": "LayoutModel",
                        "_view_count": null,
                        "_view_module": "@jupyter-widgets/base",
                        "_view_module_version": "1.2.0",
                        "_view_name": "LayoutView",
                        "align_content": null,
                        "align_items": null,
                        "align_self": null,
                        "border": null,
                        "bottom": null,
                        "display": null,
                        "flex": null,
                        "flex_flow": null,
                        "grid_area": null,
                        "grid_auto_columns": null,
                        "grid_auto_flow": null,
                        "grid_auto_rows": null,
                        "grid_column": null,
                        "grid_gap": null,
                        "grid_row": null,
                        "grid_template_areas": null,
                        "grid_template_columns": null,
                        "grid_template_rows": null,
                        "height": null,
                        "justify_content": null,
                        "justify_items": null,
                        "left": null,
                        "margin": null,
                        "max_height": null,
                        "max_width": null,
                        "min_height": null,
                        "min_width": null,
                        "object_fit": null,
                        "object_position": null,
                        "order": null,
                        "overflow": null,
                        "overflow_x": null,
                        "overflow_y": null,
                        "padding": null,
                        "right": null,
                        "top": null,
                        "visibility": null,
                        "width": null
                    }
                },
                "ad465ece0efe4e1f937aa42891983488": {
                    "model_module": "@jupyter-widgets/controls",
                    "model_name": "DescriptionStyleModel",
                    "model_module_version": "1.5.0",
                    "state": {
                        "_model_module": "@jupyter-widgets/controls",
                        "_model_module_version": "1.5.0",
                        "_model_name": "DescriptionStyleModel",
                        "_view_count": null,
                        "_view_module": "@jupyter-widgets/base",
                        "_view_module_version": "1.2.0",
                        "_view_name": "StyleView",
                        "description_width": ""
                    }
                },
                "3faad827ecfb4b3d84d957c2ebde7661": {
                    "model_module": "@jupyter-widgets/base",
                    "model_name": "LayoutModel",
                    "model_module_version": "1.2.0",
                    "state": {
                        "_model_module": "@jupyter-widgets/base",
                        "_model_module_version": "1.2.0",
                        "_model_name": "LayoutModel",
                        "_view_count": null,
                        "_view_module": "@jupyter-widgets/base",
                        "_view_module_version": "1.2.0",
                        "_view_name": "LayoutView",
                        "align_content": null,
                        "align_items": null,
                        "align_self": null,
                        "border": null,
                        "bottom": null,
                        "display": null,
                        "flex": null,
                        "flex_flow": null,
                        "grid_area": null,
                        "grid_auto_columns": null,
                        "grid_auto_flow": null,
                        "grid_auto_rows": null,
                        "grid_column": null,
                        "grid_gap": null,
                        "grid_row": null,
                        "grid_template_areas": null,
                        "grid_template_columns": null,
                        "grid_template_rows": null,
                        "height": null,
                        "justify_content": null,
                        "justify_items": null,
                        "left": null,
                        "margin": null,
                        "max_height": null,
                        "max_width": null,
                        "min_height": null,
                        "min_width": null,
                        "object_fit": null,
                        "object_position": null,
                        "order": null,
                        "overflow": null,
                        "overflow_x": null,
                        "overflow_y": null,
                        "padding": null,
                        "right": null,
                        "top": null,
                        "visibility": null,
                        "width": null
                    }
                },
                "6f78be2144e649598da818754e5299af": {
                    "model_module": "@jupyter-widgets/controls",
                    "model_name": "ProgressStyleModel",
                    "model_module_version": "1.5.0",
                    "state": {
                        "_model_module": "@jupyter-widgets/controls",
                        "_model_module_version": "1.5.0",
                        "_model_name": "ProgressStyleModel",
                        "_view_count": null,
                        "_view_module": "@jupyter-widgets/base",
                        "_view_module_version": "1.2.0",
                        "_view_name": "StyleView",
                        "bar_color": null,
                        "description_width": ""
                    }
                },
                "8627c23679414a7298788e56f36b2152": {
                    "model_module": "@jupyter-widgets/base",
                    "model_name": "LayoutModel",
                    "model_module_version": "1.2.0",
                    "state": {
                        "_model_module": "@jupyter-widgets/base",
                        "_model_module_version": "1.2.0",
                        "_model_name": "LayoutModel",
                        "_view_count": null,
                        "_view_module": "@jupyter-widgets/base",
                        "_view_module_version": "1.2.0",
                        "_view_name": "LayoutView",
                        "align_content": null,
                        "align_items": null,
                        "align_self": null,
                        "border": null,
                        "bottom": null,
                        "display": null,
                        "flex": null,
                        "flex_flow": null,
                        "grid_area": null,
                        "grid_auto_columns": null,
                        "grid_auto_flow": null,
                        "grid_auto_rows": null,
                        "grid_column": null,
                        "grid_gap": null,
                        "grid_row": null,
                        "grid_template_areas": null,
                        "grid_template_columns": null,
                        "grid_template_rows": null,
                        "height": null,
                        "justify_content": null,
                        "justify_items": null,
                        "left": null,
                        "margin": null,
                        "max_height": null,
                        "max_width": null,
                        "min_height": null,
                        "min_width": null,
                        "object_fit": null,
                        "object_position": null,
                        "order": null,
                        "overflow": null,
                        "overflow_x": null,
                        "overflow_y": null,
                        "padding": null,
                        "right": null,
                        "top": null,
                        "visibility": null,
                        "width": null
                    }
                },
                "cd052a4d31804b4a9be506f43fe8364c": {
                    "model_module": "@jupyter-widgets/controls",
                    "model_name": "DescriptionStyleModel",
                    "model_module_version": "1.5.0",
                    "state": {
                        "_model_module": "@jupyter-widgets/controls",
                        "_model_module_version": "1.5.0",
                        "_model_name": "DescriptionStyleModel",
                        "_view_count": null,
                        "_view_module": "@jupyter-widgets/base",
                        "_view_module_version": "1.2.0",
                        "_view_name": "StyleView",
                        "description_width": ""
                    }
                },
                "7c9dccbb0a614b7ba51bb4dfc22634f4": {
                    "model_module": "@jupyter-widgets/controls",
                    "model_name": "HBoxModel",
                    "model_module_version": "1.5.0",
                    "state": {
                        "_dom_classes": [],
                        "_model_module": "@jupyter-widgets/controls",
                        "_model_module_version": "1.5.0",
                        "_model_name": "HBoxModel",
                        "_view_count": null,
                        "_view_module": "@jupyter-widgets/controls",
                        "_view_module_version": "1.5.0",
                        "_view_name": "HBoxView",
                        "box_style": "",
                        "children": [
                            "IPY_MODEL_ba2316c760724b7e8433db31d121271b",
                            "IPY_MODEL_abb7db76aa7b4b599a2a5757e33d464b",
                            "IPY_MODEL_ef09b123f99f4473980e052f58697cff"
                        ],
                        "layout": "IPY_MODEL_719ef0d156f04bca8866110a3908e2a5"
                    }
                },
                "ba2316c760724b7e8433db31d121271b": {
                    "model_module": "@jupyter-widgets/controls",
                    "model_name": "HTMLModel",
                    "model_module_version": "1.5.0",
                    "state": {
                        "_dom_classes": [],
                        "_model_module": "@jupyter-widgets/controls",
                        "_model_module_version": "1.5.0",
                        "_model_name": "HTMLModel",
                        "_view_count": null,
                        "_view_module": "@jupyter-widgets/controls",
                        "_view_module_version": "1.5.0",
                        "_view_name": "HTMLView",
                        "description": "",
                        "description_tooltip": null,
                        "layout": "IPY_MODEL_4f22f786e1a4438381aa4d41ede436f8",
                        "placeholder": "​",
                        "style": "IPY_MODEL_bd8435e5280d4144b8d74889832411e9",
                        "value": "vocab.json: 100%"
                    }
                },
                "abb7db76aa7b4b599a2a5757e33d464b": {
                    "model_module": "@jupyter-widgets/controls",
                    "model_name": "FloatProgressModel",
                    "model_module_version": "1.5.0",
                    "state": {
                        "_dom_classes": [],
                        "_model_module": "@jupyter-widgets/controls",
                        "_model_module_version": "1.5.0",
                        "_model_name": "FloatProgressModel",
                        "_view_count": null,
                        "_view_module": "@jupyter-widgets/controls",
                        "_view_module_version": "1.5.0",
                        "_view_name": "ProgressView",
                        "bar_style": "success",
                        "description": "",
                        "description_tooltip": null,
                        "layout": "IPY_MODEL_8c40b73df7aa49e8afce5ca858507f75",
                        "max": 1036584,
                        "min": 0,
                        "orientation": "horizontal",
                        "style": "IPY_MODEL_a55e51ab156d44289fe56601f463d9e3",
                        "value": 1036584
                    }
                },
                "ef09b123f99f4473980e052f58697cff": {
                    "model_module": "@jupyter-widgets/controls",
                    "model_name": "HTMLModel",
                    "model_module_version": "1.5.0",
                    "state": {
                        "_dom_classes": [],
                        "_model_module": "@jupyter-widgets/controls",
                        "_model_module_version": "1.5.0",
                        "_model_name": "HTMLModel",
                        "_view_count": null,
                        "_view_module": "@jupyter-widgets/controls",
                        "_view_module_version": "1.5.0",
                        "_view_name": "HTMLView",
                        "description": "",
                        "description_tooltip": null,
                        "layout": "IPY_MODEL_59c96150e8094fafa90974abaed3e113",
                        "placeholder": "​",
                        "style": "IPY_MODEL_6c5d6d93faed48ff92e7560ae829e5f1",
                        "value": " 1.04M/1.04M [00:00&lt;00:00, 1.09MB/s]"
                    }
                },
                "719ef0d156f04bca8866110a3908e2a5": {
                    "model_module": "@jupyter-widgets/base",
                    "model_name": "LayoutModel",
                    "model_module_version": "1.2.0",
                    "state": {
                        "_model_module": "@jupyter-widgets/base",
                        "_model_module_version": "1.2.0",
                        "_model_name": "LayoutModel",
                        "_view_count": null,
                        "_view_module": "@jupyter-widgets/base",
                        "_view_module_version": "1.2.0",
                        "_view_name": "LayoutView",
                        "align_content": null,
                        "align_items": null,
                        "align_self": null,
                        "border": null,
                        "bottom": null,
                        "display": null,
                        "flex": null,
                        "flex_flow": null,
                        "grid_area": null,
                        "grid_auto_columns": null,
                        "grid_auto_flow": null,
                        "grid_auto_rows": null,
                        "grid_column": null,
                        "grid_gap": null,
                        "grid_row": null,
                        "grid_template_areas": null,
                        "grid_template_columns": null,
                        "grid_template_rows": null,
                        "height": null,
                        "justify_content": null,
                        "justify_items": null,
                        "left": null,
                        "margin": null,
                        "max_height": null,
                        "max_width": null,
                        "min_height": null,
                        "min_width": null,
                        "object_fit": null,
                        "object_position": null,
                        "order": null,
                        "overflow": null,
                        "overflow_x": null,
                        "overflow_y": null,
                        "padding": null,
                        "right": null,
                        "top": null,
                        "visibility": null,
                        "width": null
                    }
                },
                "4f22f786e1a4438381aa4d41ede436f8": {
                    "model_module": "@jupyter-widgets/base",
                    "model_name": "LayoutModel",
                    "model_module_version": "1.2.0",
                    "state": {
                        "_model_module": "@jupyter-widgets/base",
                        "_model_module_version": "1.2.0",
                        "_model_name": "LayoutModel",
                        "_view_count": null,
                        "_view_module": "@jupyter-widgets/base",
                        "_view_module_version": "1.2.0",
                        "_view_name": "LayoutView",
                        "align_content": null,
                        "align_items": null,
                        "align_self": null,
                        "border": null,
                        "bottom": null,
                        "display": null,
                        "flex": null,
                        "flex_flow": null,
                        "grid_area": null,
                        "grid_auto_columns": null,
                        "grid_auto_flow": null,
                        "grid_auto_rows": null,
                        "grid_column": null,
                        "grid_gap": null,
                        "grid_row": null,
                        "grid_template_areas": null,
                        "grid_template_columns": null,
                        "grid_template_rows": null,
                        "height": null,
                        "justify_content": null,
                        "justify_items": null,
                        "left": null,
                        "margin": null,
                        "max_height": null,
                        "max_width": null,
                        "min_height": null,
                        "min_width": null,
                        "object_fit": null,
                        "object_position": null,
                        "order": null,
                        "overflow": null,
                        "overflow_x": null,
                        "overflow_y": null,
                        "padding": null,
                        "right": null,
                        "top": null,
                        "visibility": null,
                        "width": null
                    }
                },
                "bd8435e5280d4144b8d74889832411e9": {
                    "model_module": "@jupyter-widgets/controls",
                    "model_name": "DescriptionStyleModel",
                    "model_module_version": "1.5.0",
                    "state": {
                        "_model_module": "@jupyter-widgets/controls",
                        "_model_module_version": "1.5.0",
                        "_model_name": "DescriptionStyleModel",
                        "_view_count": null,
                        "_view_module": "@jupyter-widgets/base",
                        "_view_module_version": "1.2.0",
                        "_view_name": "StyleView",
                        "description_width": ""
                    }
                },
                "8c40b73df7aa49e8afce5ca858507f75": {
                    "model_module": "@jupyter-widgets/base",
                    "model_name": "LayoutModel",
                    "model_module_version": "1.2.0",
                    "state": {
                        "_model_module": "@jupyter-widgets/base",
                        "_model_module_version": "1.2.0",
                        "_model_name": "LayoutModel",
                        "_view_count": null,
                        "_view_module": "@jupyter-widgets/base",
                        "_view_module_version": "1.2.0",
                        "_view_name": "LayoutView",
                        "align_content": null,
                        "align_items": null,
                        "align_self": null,
                        "border": null,
                        "bottom": null,
                        "display": null,
                        "flex": null,
                        "flex_flow": null,
                        "grid_area": null,
                        "grid_auto_columns": null,
                        "grid_auto_flow": null,
                        "grid_auto_rows": null,
                        "grid_column": null,
                        "grid_gap": null,
                        "grid_row": null,
                        "grid_template_areas": null,
                        "grid_template_columns": null,
                        "grid_template_rows": null,
                        "height": null,
                        "justify_content": null,
                        "justify_items": null,
                        "left": null,
                        "margin": null,
                        "max_height": null,
                        "max_width": null,
                        "min_height": null,
                        "min_width": null,
                        "object_fit": null,
                        "object_position": null,
                        "order": null,
                        "overflow": null,
                        "overflow_x": null,
                        "overflow_y": null,
                        "padding": null,
                        "right": null,
                        "top": null,
                        "visibility": null,
                        "width": null
                    }
                },
                "a55e51ab156d44289fe56601f463d9e3": {
                    "model_module": "@jupyter-widgets/controls",
                    "model_name": "ProgressStyleModel",
                    "model_module_version": "1.5.0",
                    "state": {
                        "_model_module": "@jupyter-widgets/controls",
                        "_model_module_version": "1.5.0",
                        "_model_name": "ProgressStyleModel",
                        "_view_count": null,
                        "_view_module": "@jupyter-widgets/base",
                        "_view_module_version": "1.2.0",
                        "_view_name": "StyleView",
                        "bar_color": null,
                        "description_width": ""
                    }
                },
                "59c96150e8094fafa90974abaed3e113": {
                    "model_module": "@jupyter-widgets/base",
                    "model_name": "LayoutModel",
                    "model_module_version": "1.2.0",
                    "state": {
                        "_model_module": "@jupyter-widgets/base",
                        "_model_module_version": "1.2.0",
                        "_model_name": "LayoutModel",
                        "_view_count": null,
                        "_view_module": "@jupyter-widgets/base",
                        "_view_module_version": "1.2.0",
                        "_view_name": "LayoutView",
                        "align_content": null,
                        "align_items": null,
                        "align_self": null,
                        "border": null,
                        "bottom": null,
                        "display": null,
                        "flex": null,
                        "flex_flow": null,
                        "grid_area": null,
                        "grid_auto_columns": null,
                        "grid_auto_flow": null,
                        "grid_auto_rows": null,
                        "grid_column": null,
                        "grid_gap": null,
                        "grid_row": null,
                        "grid_template_areas": null,
                        "grid_template_columns": null,
                        "grid_template_rows": null,
                        "height": null,
                        "justify_content": null,
                        "justify_items": null,
                        "left": null,
                        "margin": null,
                        "max_height": null,
                        "max_width": null,
                        "min_height": null,
                        "min_width": null,
                        "object_fit": null,
                        "object_position": null,
                        "order": null,
                        "overflow": null,
                        "overflow_x": null,
                        "overflow_y": null,
                        "padding": null,
                        "right": null,
                        "top": null,
                        "visibility": null,
                        "width": null
                    }
                },
                "6c5d6d93faed48ff92e7560ae829e5f1": {
                    "model_module": "@jupyter-widgets/controls",
                    "model_name": "DescriptionStyleModel",
                    "model_module_version": "1.5.0",
                    "state": {
                        "_model_module": "@jupyter-widgets/controls",
                        "_model_module_version": "1.5.0",
                        "_model_name": "DescriptionStyleModel",
                        "_view_count": null,
                        "_view_module": "@jupyter-widgets/base",
                        "_view_module_version": "1.2.0",
                        "_view_name": "StyleView",
                        "description_width": ""
                    }
                },
                "c0f60efbd5084a12b0ad08f69f6cda78": {
                    "model_module": "@jupyter-widgets/controls",
                    "model_name": "HBoxModel",
                    "model_module_version": "1.5.0",
                    "state": {
                        "_dom_classes": [],
                        "_model_module": "@jupyter-widgets/controls",
                        "_model_module_version": "1.5.0",
                        "_model_name": "HBoxModel",
                        "_view_count": null,
                        "_view_module": "@jupyter-widgets/controls",
                        "_view_module_version": "1.5.0",
                        "_view_name": "HBoxView",
                        "box_style": "",
                        "children": [
                            "IPY_MODEL_e9f0a9574851462398dd634c50159f17",
                            "IPY_MODEL_05b5b10354fa4e6c837ea3723b1e6aba",
                            "IPY_MODEL_542c556e73924ac2a4313a305fefb801"
                        ],
                        "layout": "IPY_MODEL_1e218398387945ffbb0b49b11acff966"
                    }
                },
                "e9f0a9574851462398dd634c50159f17": {
                    "model_module": "@jupyter-widgets/controls",
                    "model_name": "HTMLModel",
                    "model_module_version": "1.5.0",
                    "state": {
                        "_dom_classes": [],
                        "_model_module": "@jupyter-widgets/controls",
                        "_model_module_version": "1.5.0",
                        "_model_name": "HTMLModel",
                        "_view_count": null,
                        "_view_module": "@jupyter-widgets/controls",
                        "_view_module_version": "1.5.0",
                        "_view_name": "HTMLView",
                        "description": "",
                        "description_tooltip": null,
                        "layout": "IPY_MODEL_7c053182dac440d796b27e4dc10ea05f",
                        "placeholder": "​",
                        "style": "IPY_MODEL_6369fd3bc8a14c12af3b2f03faebb7f7",
                        "value": "merges.txt: 100%"
                    }
                },
                "05b5b10354fa4e6c837ea3723b1e6aba": {
                    "model_module": "@jupyter-widgets/controls",
                    "model_name": "FloatProgressModel",
                    "model_module_version": "1.5.0",
                    "state": {
                        "_dom_classes": [],
                        "_model_module": "@jupyter-widgets/controls",
                        "_model_module_version": "1.5.0",
                        "_model_name": "FloatProgressModel",
                        "_view_count": null,
                        "_view_module": "@jupyter-widgets/controls",
                        "_view_module_version": "1.5.0",
                        "_view_name": "ProgressView",
                        "bar_style": "success",
                        "description": "",
                        "description_tooltip": null,
                        "layout": "IPY_MODEL_7fd7f7ba7a204ffbad002ea31fd51bfe",
                        "max": 493869,
                        "min": 0,
                        "orientation": "horizontal",
                        "style": "IPY_MODEL_88a68e0a1d944e159277899f0bdc537d",
                        "value": 493869
                    }
                },
                "542c556e73924ac2a4313a305fefb801": {
                    "model_module": "@jupyter-widgets/controls",
                    "model_name": "HTMLModel",
                    "model_module_version": "1.5.0",
                    "state": {
                        "_dom_classes": [],
                        "_model_module": "@jupyter-widgets/controls",
                        "_model_module_version": "1.5.0",
                        "_model_name": "HTMLModel",
                        "_view_count": null,
                        "_view_module": "@jupyter-widgets/controls",
                        "_view_module_version": "1.5.0",
                        "_view_name": "HTMLView",
                        "description": "",
                        "description_tooltip": null,
                        "layout": "IPY_MODEL_b3515969308044078e679b024ec4610f",
                        "placeholder": "​",
                        "style": "IPY_MODEL_3fb66a7ba0ac4e84b79e6ff754cbd8b5",
                        "value": " 494k/494k [00:00&lt;00:00, 2.09MB/s]"
                    }
                },
                "1e218398387945ffbb0b49b11acff966": {
                    "model_module": "@jupyter-widgets/base",
                    "model_name": "LayoutModel",
                    "model_module_version": "1.2.0",
                    "state": {
                        "_model_module": "@jupyter-widgets/base",
                        "_model_module_version": "1.2.0",
                        "_model_name": "LayoutModel",
                        "_view_count": null,
                        "_view_module": "@jupyter-widgets/base",
                        "_view_module_version": "1.2.0",
                        "_view_name": "LayoutView",
                        "align_content": null,
                        "align_items": null,
                        "align_self": null,
                        "border": null,
                        "bottom": null,
                        "display": null,
                        "flex": null,
                        "flex_flow": null,
                        "grid_area": null,
                        "grid_auto_columns": null,
                        "grid_auto_flow": null,
                        "grid_auto_rows": null,
                        "grid_column": null,
                        "grid_gap": null,
                        "grid_row": null,
                        "grid_template_areas": null,
                        "grid_template_columns": null,
                        "grid_template_rows": null,
                        "height": null,
                        "justify_content": null,
                        "justify_items": null,
                        "left": null,
                        "margin": null,
                        "max_height": null,
                        "max_width": null,
                        "min_height": null,
                        "min_width": null,
                        "object_fit": null,
                        "object_position": null,
                        "order": null,
                        "overflow": null,
                        "overflow_x": null,
                        "overflow_y": null,
                        "padding": null,
                        "right": null,
                        "top": null,
                        "visibility": null,
                        "width": null
                    }
                },
                "7c053182dac440d796b27e4dc10ea05f": {
                    "model_module": "@jupyter-widgets/base",
                    "model_name": "LayoutModel",
                    "model_module_version": "1.2.0",
                    "state": {
                        "_model_module": "@jupyter-widgets/base",
                        "_model_module_version": "1.2.0",
                        "_model_name": "LayoutModel",
                        "_view_count": null,
                        "_view_module": "@jupyter-widgets/base",
                        "_view_module_version": "1.2.0",
                        "_view_name": "LayoutView",
                        "align_content": null,
                        "align_items": null,
                        "align_self": null,
                        "border": null,
                        "bottom": null,
                        "display": null,
                        "flex": null,
                        "flex_flow": null,
                        "grid_area": null,
                        "grid_auto_columns": null,
                        "grid_auto_flow": null,
                        "grid_auto_rows": null,
                        "grid_column": null,
                        "grid_gap": null,
                        "grid_row": null,
                        "grid_template_areas": null,
                        "grid_template_columns": null,
                        "grid_template_rows": null,
                        "height": null,
                        "justify_content": null,
                        "justify_items": null,
                        "left": null,
                        "margin": null,
                        "max_height": null,
                        "max_width": null,
                        "min_height": null,
                        "min_width": null,
                        "object_fit": null,
                        "object_position": null,
                        "order": null,
                        "overflow": null,
                        "overflow_x": null,
                        "overflow_y": null,
                        "padding": null,
                        "right": null,
                        "top": null,
                        "visibility": null,
                        "width": null
                    }
                },
                "6369fd3bc8a14c12af3b2f03faebb7f7": {
                    "model_module": "@jupyter-widgets/controls",
                    "model_name": "DescriptionStyleModel",
                    "model_module_version": "1.5.0",
                    "state": {
                        "_model_module": "@jupyter-widgets/controls",
                        "_model_module_version": "1.5.0",
                        "_model_name": "DescriptionStyleModel",
                        "_view_count": null,
                        "_view_module": "@jupyter-widgets/base",
                        "_view_module_version": "1.2.0",
                        "_view_name": "StyleView",
                        "description_width": ""
                    }
                },
                "7fd7f7ba7a204ffbad002ea31fd51bfe": {
                    "model_module": "@jupyter-widgets/base",
                    "model_name": "LayoutModel",
                    "model_module_version": "1.2.0",
                    "state": {
                        "_model_module": "@jupyter-widgets/base",
                        "_model_module_version": "1.2.0",
                        "_model_name": "LayoutModel",
                        "_view_count": null,
                        "_view_module": "@jupyter-widgets/base",
                        "_view_module_version": "1.2.0",
                        "_view_name": "LayoutView",
                        "align_content": null,
                        "align_items": null,
                        "align_self": null,
                        "border": null,
                        "bottom": null,
                        "display": null,
                        "flex": null,
                        "flex_flow": null,
                        "grid_area": null,
                        "grid_auto_columns": null,
                        "grid_auto_flow": null,
                        "grid_auto_rows": null,
                        "grid_column": null,
                        "grid_gap": null,
                        "grid_row": null,
                        "grid_template_areas": null,
                        "grid_template_columns": null,
                        "grid_template_rows": null,
                        "height": null,
                        "justify_content": null,
                        "justify_items": null,
                        "left": null,
                        "margin": null,
                        "max_height": null,
                        "max_width": null,
                        "min_height": null,
                        "min_width": null,
                        "object_fit": null,
                        "object_position": null,
                        "order": null,
                        "overflow": null,
                        "overflow_x": null,
                        "overflow_y": null,
                        "padding": null,
                        "right": null,
                        "top": null,
                        "visibility": null,
                        "width": null
                    }
                },
                "88a68e0a1d944e159277899f0bdc537d": {
                    "model_module": "@jupyter-widgets/controls",
                    "model_name": "ProgressStyleModel",
                    "model_module_version": "1.5.0",
                    "state": {
                        "_model_module": "@jupyter-widgets/controls",
                        "_model_module_version": "1.5.0",
                        "_model_name": "ProgressStyleModel",
                        "_view_count": null,
                        "_view_module": "@jupyter-widgets/base",
                        "_view_module_version": "1.2.0",
                        "_view_name": "StyleView",
                        "bar_color": null,
                        "description_width": ""
                    }
                },
                "b3515969308044078e679b024ec4610f": {
                    "model_module": "@jupyter-widgets/base",
                    "model_name": "LayoutModel",
                    "model_module_version": "1.2.0",
                    "state": {
                        "_model_module": "@jupyter-widgets/base",
                        "_model_module_version": "1.2.0",
                        "_model_name": "LayoutModel",
                        "_view_count": null,
                        "_view_module": "@jupyter-widgets/base",
                        "_view_module_version": "1.2.0",
                        "_view_name": "LayoutView",
                        "align_content": null,
                        "align_items": null,
                        "align_self": null,
                        "border": null,
                        "bottom": null,
                        "display": null,
                        "flex": null,
                        "flex_flow": null,
                        "grid_area": null,
                        "grid_auto_columns": null,
                        "grid_auto_flow": null,
                        "grid_auto_rows": null,
                        "grid_column": null,
                        "grid_gap": null,
                        "grid_row": null,
                        "grid_template_areas": null,
                        "grid_template_columns": null,
                        "grid_template_rows": null,
                        "height": null,
                        "justify_content": null,
                        "justify_items": null,
                        "left": null,
                        "margin": null,
                        "max_height": null,
                        "max_width": null,
                        "min_height": null,
                        "min_width": null,
                        "object_fit": null,
                        "object_position": null,
                        "order": null,
                        "overflow": null,
                        "overflow_x": null,
                        "overflow_y": null,
                        "padding": null,
                        "right": null,
                        "top": null,
                        "visibility": null,
                        "width": null
                    }
                },
                "3fb66a7ba0ac4e84b79e6ff754cbd8b5": {
                    "model_module": "@jupyter-widgets/controls",
                    "model_name": "DescriptionStyleModel",
                    "model_module_version": "1.5.0",
                    "state": {
                        "_model_module": "@jupyter-widgets/controls",
                        "_model_module_version": "1.5.0",
                        "_model_name": "DescriptionStyleModel",
                        "_view_count": null,
                        "_view_module": "@jupyter-widgets/base",
                        "_view_module_version": "1.2.0",
                        "_view_name": "StyleView",
                        "description_width": ""
                    }
                },
                "b569ca7ea9774e8588657ba0657f2144": {
                    "model_module": "@jupyter-widgets/controls",
                    "model_name": "HBoxModel",
                    "model_module_version": "1.5.0",
                    "state": {
                        "_dom_classes": [],
                        "_model_module": "@jupyter-widgets/controls",
                        "_model_module_version": "1.5.0",
                        "_model_name": "HBoxModel",
                        "_view_count": null,
                        "_view_module": "@jupyter-widgets/controls",
                        "_view_module_version": "1.5.0",
                        "_view_name": "HBoxView",
                        "box_style": "",
                        "children": [
                            "IPY_MODEL_352e70b0ea3147358fc7d409a6311bcf",
                            "IPY_MODEL_a05a2be2f570418d8205553922d87da5",
                            "IPY_MODEL_0b97cf744824453c89ae78720fd55f2a"
                        ],
                        "layout": "IPY_MODEL_135f1d3ad9794a2bb0924baca9ab02a5"
                    }
                },
                "352e70b0ea3147358fc7d409a6311bcf": {
                    "model_module": "@jupyter-widgets/controls",
                    "model_name": "HTMLModel",
                    "model_module_version": "1.5.0",
                    "state": {
                        "_dom_classes": [],
                        "_model_module": "@jupyter-widgets/controls",
                        "_model_module_version": "1.5.0",
                        "_model_name": "HTMLModel",
                        "_view_count": null,
                        "_view_module": "@jupyter-widgets/controls",
                        "_view_module_version": "1.5.0",
                        "_view_name": "HTMLView",
                        "description": "",
                        "description_tooltip": null,
                        "layout": "IPY_MODEL_d2dc18b62bfd4118b1400b139e420573",
                        "placeholder": "​",
                        "style": "IPY_MODEL_c167dcb8372445e7bff8ab851a614411",
                        "value": "normalizer.json: 100%"
                    }
                },
                "a05a2be2f570418d8205553922d87da5": {
                    "model_module": "@jupyter-widgets/controls",
                    "model_name": "FloatProgressModel",
                    "model_module_version": "1.5.0",
                    "state": {
                        "_dom_classes": [],
                        "_model_module": "@jupyter-widgets/controls",
                        "_model_module_version": "1.5.0",
                        "_model_name": "FloatProgressModel",
                        "_view_count": null,
                        "_view_module": "@jupyter-widgets/controls",
                        "_view_module_version": "1.5.0",
                        "_view_name": "ProgressView",
                        "bar_style": "success",
                        "description": "",
                        "description_tooltip": null,
                        "layout": "IPY_MODEL_2a5fe94a4a1b4b61a9247d1d6be4a640",
                        "max": 52666,
                        "min": 0,
                        "orientation": "horizontal",
                        "style": "IPY_MODEL_7bad8c8d31ae495b9bae21807bb53080",
                        "value": 52666
                    }
                },
                "0b97cf744824453c89ae78720fd55f2a": {
                    "model_module": "@jupyter-widgets/controls",
                    "model_name": "HTMLModel",
                    "model_module_version": "1.5.0",
                    "state": {
                        "_dom_classes": [],
                        "_model_module": "@jupyter-widgets/controls",
                        "_model_module_version": "1.5.0",
                        "_model_name": "HTMLModel",
                        "_view_count": null,
                        "_view_module": "@jupyter-widgets/controls",
                        "_view_module_version": "1.5.0",
                        "_view_name": "HTMLView",
                        "description": "",
                        "description_tooltip": null,
                        "layout": "IPY_MODEL_69a3d75406b946e0a2b4b94a004ed773",
                        "placeholder": "​",
                        "style": "IPY_MODEL_c29af68d2af245dcbf1a002f9afce3ac",
                        "value": " 52.7k/52.7k [00:00&lt;00:00, 1.69MB/s]"
                    }
                },
                "135f1d3ad9794a2bb0924baca9ab02a5": {
                    "model_module": "@jupyter-widgets/base",
                    "model_name": "LayoutModel",
                    "model_module_version": "1.2.0",
                    "state": {
                        "_model_module": "@jupyter-widgets/base",
                        "_model_module_version": "1.2.0",
                        "_model_name": "LayoutModel",
                        "_view_count": null,
                        "_view_module": "@jupyter-widgets/base",
                        "_view_module_version": "1.2.0",
                        "_view_name": "LayoutView",
                        "align_content": null,
                        "align_items": null,
                        "align_self": null,
                        "border": null,
                        "bottom": null,
                        "display": null,
                        "flex": null,
                        "flex_flow": null,
                        "grid_area": null,
                        "grid_auto_columns": null,
                        "grid_auto_flow": null,
                        "grid_auto_rows": null,
                        "grid_column": null,
                        "grid_gap": null,
                        "grid_row": null,
                        "grid_template_areas": null,
                        "grid_template_columns": null,
                        "grid_template_rows": null,
                        "height": null,
                        "justify_content": null,
                        "justify_items": null,
                        "left": null,
                        "margin": null,
                        "max_height": null,
                        "max_width": null,
                        "min_height": null,
                        "min_width": null,
                        "object_fit": null,
                        "object_position": null,
                        "order": null,
                        "overflow": null,
                        "overflow_x": null,
                        "overflow_y": null,
                        "padding": null,
                        "right": null,
                        "top": null,
                        "visibility": null,
                        "width": null
                    }
                },
                "d2dc18b62bfd4118b1400b139e420573": {
                    "model_module": "@jupyter-widgets/base",
                    "model_name": "LayoutModel",
                    "model_module_version": "1.2.0",
                    "state": {
                        "_model_module": "@jupyter-widgets/base",
                        "_model_module_version": "1.2.0",
                        "_model_name": "LayoutModel",
                        "_view_count": null,
                        "_view_module": "@jupyter-widgets/base",
                        "_view_module_version": "1.2.0",
                        "_view_name": "LayoutView",
                        "align_content": null,
                        "align_items": null,
                        "align_self": null,
                        "border": null,
                        "bottom": null,
                        "display": null,
                        "flex": null,
                        "flex_flow": null,
                        "grid_area": null,
                        "grid_auto_columns": null,
                        "grid_auto_flow": null,
                        "grid_auto_rows": null,
                        "grid_column": null,
                        "grid_gap": null,
                        "grid_row": null,
                        "grid_template_areas": null,
                        "grid_template_columns": null,
                        "grid_template_rows": null,
                        "height": null,
                        "justify_content": null,
                        "justify_items": null,
                        "left": null,
                        "margin": null,
                        "max_height": null,
                        "max_width": null,
                        "min_height": null,
                        "min_width": null,
                        "object_fit": null,
                        "object_position": null,
                        "order": null,
                        "overflow": null,
                        "overflow_x": null,
                        "overflow_y": null,
                        "padding": null,
                        "right": null,
                        "top": null,
                        "visibility": null,
                        "width": null
                    }
                },
                "c167dcb8372445e7bff8ab851a614411": {
                    "model_module": "@jupyter-widgets/controls",
                    "model_name": "DescriptionStyleModel",
                    "model_module_version": "1.5.0",
                    "state": {
                        "_model_module": "@jupyter-widgets/controls",
                        "_model_module_version": "1.5.0",
                        "_model_name": "DescriptionStyleModel",
                        "_view_count": null,
                        "_view_module": "@jupyter-widgets/base",
                        "_view_module_version": "1.2.0",
                        "_view_name": "StyleView",
                        "description_width": ""
                    }
                },
                "2a5fe94a4a1b4b61a9247d1d6be4a640": {
                    "model_module": "@jupyter-widgets/base",
                    "model_name": "LayoutModel",
                    "model_module_version": "1.2.0",
                    "state": {
                        "_model_module": "@jupyter-widgets/base",
                        "_model_module_version": "1.2.0",
                        "_model_name": "LayoutModel",
                        "_view_count": null,
                        "_view_module": "@jupyter-widgets/base",
                        "_view_module_version": "1.2.0",
                        "_view_name": "LayoutView",
                        "align_content": null,
                        "align_items": null,
                        "align_self": null,
                        "border": null,
                        "bottom": null,
                        "display": null,
                        "flex": null,
                        "flex_flow": null,
                        "grid_area": null,
                        "grid_auto_columns": null,
                        "grid_auto_flow": null,
                        "grid_auto_rows": null,
                        "grid_column": null,
                        "grid_gap": null,
                        "grid_row": null,
                        "grid_template_areas": null,
                        "grid_template_columns": null,
                        "grid_template_rows": null,
                        "height": null,
                        "justify_content": null,
                        "justify_items": null,
                        "left": null,
                        "margin": null,
                        "max_height": null,
                        "max_width": null,
                        "min_height": null,
                        "min_width": null,
                        "object_fit": null,
                        "object_position": null,
                        "order": null,
                        "overflow": null,
                        "overflow_x": null,
                        "overflow_y": null,
                        "padding": null,
                        "right": null,
                        "top": null,
                        "visibility": null,
                        "width": null
                    }
                },
                "7bad8c8d31ae495b9bae21807bb53080": {
                    "model_module": "@jupyter-widgets/controls",
                    "model_name": "ProgressStyleModel",
                    "model_module_version": "1.5.0",
                    "state": {
                        "_model_module": "@jupyter-widgets/controls",
                        "_model_module_version": "1.5.0",
                        "_model_name": "ProgressStyleModel",
                        "_view_count": null,
                        "_view_module": "@jupyter-widgets/base",
                        "_view_module_version": "1.2.0",
                        "_view_name": "StyleView",
                        "bar_color": null,
                        "description_width": ""
                    }
                },
                "69a3d75406b946e0a2b4b94a004ed773": {
                    "model_module": "@jupyter-widgets/base",
                    "model_name": "LayoutModel",
                    "model_module_version": "1.2.0",
                    "state": {
                        "_model_module": "@jupyter-widgets/base",
                        "_model_module_version": "1.2.0",
                        "_model_name": "LayoutModel",
                        "_view_count": null,
                        "_view_module": "@jupyter-widgets/base",
                        "_view_module_version": "1.2.0",
                        "_view_name": "LayoutView",
                        "align_content": null,
                        "align_items": null,
                        "align_self": null,
                        "border": null,
                        "bottom": null,
                        "display": null,
                        "flex": null,
                        "flex_flow": null,
                        "grid_area": null,
                        "grid_auto_columns": null,
                        "grid_auto_flow": null,
                        "grid_auto_rows": null,
                        "grid_column": null,
                        "grid_gap": null,
                        "grid_row": null,
                        "grid_template_areas": null,
                        "grid_template_columns": null,
                        "grid_template_rows": null,
                        "height": null,
                        "justify_content": null,
                        "justify_items": null,
                        "left": null,
                        "margin": null,
                        "max_height": null,
                        "max_width": null,
                        "min_height": null,
                        "min_width": null,
                        "object_fit": null,
                        "object_position": null,
                        "order": null,
                        "overflow": null,
                        "overflow_x": null,
                        "overflow_y": null,
                        "padding": null,
                        "right": null,
                        "top": null,
                        "visibility": null,
                        "width": null
                    }
                },
                "c29af68d2af245dcbf1a002f9afce3ac": {
                    "model_module": "@jupyter-widgets/controls",
                    "model_name": "DescriptionStyleModel",
                    "model_module_version": "1.5.0",
                    "state": {
                        "_model_module": "@jupyter-widgets/controls",
                        "_model_module_version": "1.5.0",
                        "_model_name": "DescriptionStyleModel",
                        "_view_count": null,
                        "_view_module": "@jupyter-widgets/base",
                        "_view_module_version": "1.2.0",
                        "_view_name": "StyleView",
                        "description_width": ""
                    }
                },
                "74814be2afac4feaaa1f67a7f032dc37": {
                    "model_module": "@jupyter-widgets/controls",
                    "model_name": "HBoxModel",
                    "model_module_version": "1.5.0",
                    "state": {
                        "_dom_classes": [],
                        "_model_module": "@jupyter-widgets/controls",
                        "_model_module_version": "1.5.0",
                        "_model_name": "HBoxModel",
                        "_view_count": null,
                        "_view_module": "@jupyter-widgets/controls",
                        "_view_module_version": "1.5.0",
                        "_view_name": "HBoxView",
                        "box_style": "",
                        "children": [
                            "IPY_MODEL_d759d1f248ad4bf78ea99fca8aec89d3",
                            "IPY_MODEL_dd244314a0094904a21967ea9fa33fdf",
                            "IPY_MODEL_64a19712aea841c18983261d6b2def79"
                        ],
                        "layout": "IPY_MODEL_ad61c1e349a14c4d8cd6689b607a2b7d"
                    }
                },
                "d759d1f248ad4bf78ea99fca8aec89d3": {
                    "model_module": "@jupyter-widgets/controls",
                    "model_name": "HTMLModel",
                    "model_module_version": "1.5.0",
                    "state": {
                        "_dom_classes": [],
                        "_model_module": "@jupyter-widgets/controls",
                        "_model_module_version": "1.5.0",
                        "_model_name": "HTMLModel",
                        "_view_count": null,
                        "_view_module": "@jupyter-widgets/controls",
                        "_view_module_version": "1.5.0",
                        "_view_name": "HTMLView",
                        "description": "",
                        "description_tooltip": null,
                        "layout": "IPY_MODEL_b6ebe34ee18446bfae78f55812e10d1c",
                        "placeholder": "​",
                        "style": "IPY_MODEL_c2763633e2a84438ba370665d5d32394",
                        "value": "added_tokens.json: 100%"
                    }
                },
                "dd244314a0094904a21967ea9fa33fdf": {
                    "model_module": "@jupyter-widgets/controls",
                    "model_name": "FloatProgressModel",
                    "model_module_version": "1.5.0",
                    "state": {
                        "_dom_classes": [],
                        "_model_module": "@jupyter-widgets/controls",
                        "_model_module_version": "1.5.0",
                        "_model_name": "FloatProgressModel",
                        "_view_count": null,
                        "_view_module": "@jupyter-widgets/controls",
                        "_view_module_version": "1.5.0",
                        "_view_name": "ProgressView",
                        "bar_style": "success",
                        "description": "",
                        "description_tooltip": null,
                        "layout": "IPY_MODEL_869cd8af9c644aea8d81181ed4e6b1d3",
                        "max": 34604,
                        "min": 0,
                        "orientation": "horizontal",
                        "style": "IPY_MODEL_f95b36a1d70b453ca7941bdd33022048",
                        "value": 34604
                    }
                },
                "64a19712aea841c18983261d6b2def79": {
                    "model_module": "@jupyter-widgets/controls",
                    "model_name": "HTMLModel",
                    "model_module_version": "1.5.0",
                    "state": {
                        "_dom_classes": [],
                        "_model_module": "@jupyter-widgets/controls",
                        "_model_module_version": "1.5.0",
                        "_model_name": "HTMLModel",
                        "_view_count": null,
                        "_view_module": "@jupyter-widgets/controls",
                        "_view_module_version": "1.5.0",
                        "_view_name": "HTMLView",
                        "description": "",
                        "description_tooltip": null,
                        "layout": "IPY_MODEL_4a8d6d91060a47d2b72788944d532a56",
                        "placeholder": "​",
                        "style": "IPY_MODEL_e54362484d9543e68f843f03cc29247a",
                        "value": " 34.6k/34.6k [00:00&lt;00:00, 1.22MB/s]"
                    }
                },
                "ad61c1e349a14c4d8cd6689b607a2b7d": {
                    "model_module": "@jupyter-widgets/base",
                    "model_name": "LayoutModel",
                    "model_module_version": "1.2.0",
                    "state": {
                        "_model_module": "@jupyter-widgets/base",
                        "_model_module_version": "1.2.0",
                        "_model_name": "LayoutModel",
                        "_view_count": null,
                        "_view_module": "@jupyter-widgets/base",
                        "_view_module_version": "1.2.0",
                        "_view_name": "LayoutView",
                        "align_content": null,
                        "align_items": null,
                        "align_self": null,
                        "border": null,
                        "bottom": null,
                        "display": null,
                        "flex": null,
                        "flex_flow": null,
                        "grid_area": null,
                        "grid_auto_columns": null,
                        "grid_auto_flow": null,
                        "grid_auto_rows": null,
                        "grid_column": null,
                        "grid_gap": null,
                        "grid_row": null,
                        "grid_template_areas": null,
                        "grid_template_columns": null,
                        "grid_template_rows": null,
                        "height": null,
                        "justify_content": null,
                        "justify_items": null,
                        "left": null,
                        "margin": null,
                        "max_height": null,
                        "max_width": null,
                        "min_height": null,
                        "min_width": null,
                        "object_fit": null,
                        "object_position": null,
                        "order": null,
                        "overflow": null,
                        "overflow_x": null,
                        "overflow_y": null,
                        "padding": null,
                        "right": null,
                        "top": null,
                        "visibility": null,
                        "width": null
                    }
                },
                "b6ebe34ee18446bfae78f55812e10d1c": {
                    "model_module": "@jupyter-widgets/base",
                    "model_name": "LayoutModel",
                    "model_module_version": "1.2.0",
                    "state": {
                        "_model_module": "@jupyter-widgets/base",
                        "_model_module_version": "1.2.0",
                        "_model_name": "LayoutModel",
                        "_view_count": null,
                        "_view_module": "@jupyter-widgets/base",
                        "_view_module_version": "1.2.0",
                        "_view_name": "LayoutView",
                        "align_content": null,
                        "align_items": null,
                        "align_self": null,
                        "border": null,
                        "bottom": null,
                        "display": null,
                        "flex": null,
                        "flex_flow": null,
                        "grid_area": null,
                        "grid_auto_columns": null,
                        "grid_auto_flow": null,
                        "grid_auto_rows": null,
                        "grid_column": null,
                        "grid_gap": null,
                        "grid_row": null,
                        "grid_template_areas": null,
                        "grid_template_columns": null,
                        "grid_template_rows": null,
                        "height": null,
                        "justify_content": null,
                        "justify_items": null,
                        "left": null,
                        "margin": null,
                        "max_height": null,
                        "max_width": null,
                        "min_height": null,
                        "min_width": null,
                        "object_fit": null,
                        "object_position": null,
                        "order": null,
                        "overflow": null,
                        "overflow_x": null,
                        "overflow_y": null,
                        "padding": null,
                        "right": null,
                        "top": null,
                        "visibility": null,
                        "width": null
                    }
                },
                "c2763633e2a84438ba370665d5d32394": {
                    "model_module": "@jupyter-widgets/controls",
                    "model_name": "DescriptionStyleModel",
                    "model_module_version": "1.5.0",
                    "state": {
                        "_model_module": "@jupyter-widgets/controls",
                        "_model_module_version": "1.5.0",
                        "_model_name": "DescriptionStyleModel",
                        "_view_count": null,
                        "_view_module": "@jupyter-widgets/base",
                        "_view_module_version": "1.2.0",
                        "_view_name": "StyleView",
                        "description_width": ""
                    }
                },
                "869cd8af9c644aea8d81181ed4e6b1d3": {
                    "model_module": "@jupyter-widgets/base",
                    "model_name": "LayoutModel",
                    "model_module_version": "1.2.0",
                    "state": {
                        "_model_module": "@jupyter-widgets/base",
                        "_model_module_version": "1.2.0",
                        "_model_name": "LayoutModel",
                        "_view_count": null,
                        "_view_module": "@jupyter-widgets/base",
                        "_view_module_version": "1.2.0",
                        "_view_name": "LayoutView",
                        "align_content": null,
                        "align_items": null,
                        "align_self": null,
                        "border": null,
                        "bottom": null,
                        "display": null,
                        "flex": null,
                        "flex_flow": null,
                        "grid_area": null,
                        "grid_auto_columns": null,
                        "grid_auto_flow": null,
                        "grid_auto_rows": null,
                        "grid_column": null,
                        "grid_gap": null,
                        "grid_row": null,
                        "grid_template_areas": null,
                        "grid_template_columns": null,
                        "grid_template_rows": null,
                        "height": null,
                        "justify_content": null,
                        "justify_items": null,
                        "left": null,
                        "margin": null,
                        "max_height": null,
                        "max_width": null,
                        "min_height": null,
                        "min_width": null,
                        "object_fit": null,
                        "object_position": null,
                        "order": null,
                        "overflow": null,
                        "overflow_x": null,
                        "overflow_y": null,
                        "padding": null,
                        "right": null,
                        "top": null,
                        "visibility": null,
                        "width": null
                    }
                },
                "f95b36a1d70b453ca7941bdd33022048": {
                    "model_module": "@jupyter-widgets/controls",
                    "model_name": "ProgressStyleModel",
                    "model_module_version": "1.5.0",
                    "state": {
                        "_model_module": "@jupyter-widgets/controls",
                        "_model_module_version": "1.5.0",
                        "_model_name": "ProgressStyleModel",
                        "_view_count": null,
                        "_view_module": "@jupyter-widgets/base",
                        "_view_module_version": "1.2.0",
                        "_view_name": "StyleView",
                        "bar_color": null,
                        "description_width": ""
                    }
                },
                "4a8d6d91060a47d2b72788944d532a56": {
                    "model_module": "@jupyter-widgets/base",
                    "model_name": "LayoutModel",
                    "model_module_version": "1.2.0",
                    "state": {
                        "_model_module": "@jupyter-widgets/base",
                        "_model_module_version": "1.2.0",
                        "_model_name": "LayoutModel",
                        "_view_count": null,
                        "_view_module": "@jupyter-widgets/base",
                        "_view_module_version": "1.2.0",
                        "_view_name": "LayoutView",
                        "align_content": null,
                        "align_items": null,
                        "align_self": null,
                        "border": null,
                        "bottom": null,
                        "display": null,
                        "flex": null,
                        "flex_flow": null,
                        "grid_area": null,
                        "grid_auto_columns": null,
                        "grid_auto_flow": null,
                        "grid_auto_rows": null,
                        "grid_column": null,
                        "grid_gap": null,
                        "grid_row": null,
                        "grid_template_areas": null,
                        "grid_template_columns": null,
                        "grid_template_rows": null,
                        "height": null,
                        "justify_content": null,
                        "justify_items": null,
                        "left": null,
                        "margin": null,
                        "max_height": null,
                        "max_width": null,
                        "min_height": null,
                        "min_width": null,
                        "object_fit": null,
                        "object_position": null,
                        "order": null,
                        "overflow": null,
                        "overflow_x": null,
                        "overflow_y": null,
                        "padding": null,
                        "right": null,
                        "top": null,
                        "visibility": null,
                        "width": null
                    }
                },
                "e54362484d9543e68f843f03cc29247a": {
                    "model_module": "@jupyter-widgets/controls",
                    "model_name": "DescriptionStyleModel",
                    "model_module_version": "1.5.0",
                    "state": {
                        "_model_module": "@jupyter-widgets/controls",
                        "_model_module_version": "1.5.0",
                        "_model_name": "DescriptionStyleModel",
                        "_view_count": null,
                        "_view_module": "@jupyter-widgets/base",
                        "_view_module_version": "1.2.0",
                        "_view_name": "StyleView",
                        "description_width": ""
                    }
                },
                "991b19fb424f41a7a85974ad1d341996": {
                    "model_module": "@jupyter-widgets/controls",
                    "model_name": "HBoxModel",
                    "model_module_version": "1.5.0",
                    "state": {
                        "_dom_classes": [],
                        "_model_module": "@jupyter-widgets/controls",
                        "_model_module_version": "1.5.0",
                        "_model_name": "HBoxModel",
                        "_view_count": null,
                        "_view_module": "@jupyter-widgets/controls",
                        "_view_module_version": "1.5.0",
                        "_view_name": "HBoxView",
                        "box_style": "",
                        "children": [
                            "IPY_MODEL_3306c5f73f3145d7b285ec04560d4843",
                            "IPY_MODEL_6cc2e6046ec2491dbbb6d24d31fec878",
                            "IPY_MODEL_32e3650eaf9c4d1fa4b8317217f94b5b"
                        ],
                        "layout": "IPY_MODEL_c044f2706b024aeeb034bf39050c80b3"
                    }
                },
                "3306c5f73f3145d7b285ec04560d4843": {
                    "model_module": "@jupyter-widgets/controls",
                    "model_name": "HTMLModel",
                    "model_module_version": "1.5.0",
                    "state": {
                        "_dom_classes": [],
                        "_model_module": "@jupyter-widgets/controls",
                        "_model_module_version": "1.5.0",
                        "_model_name": "HTMLModel",
                        "_view_count": null,
                        "_view_module": "@jupyter-widgets/controls",
                        "_view_module_version": "1.5.0",
                        "_view_name": "HTMLView",
                        "description": "",
                        "description_tooltip": null,
                        "layout": "IPY_MODEL_7051a267aa9c437bad75d0b6d72659bc",
                        "placeholder": "​",
                        "style": "IPY_MODEL_93e3e641c00942ce89bda5fcefc5621e",
                        "value": "special_tokens_map.json: 100%"
                    }
                },
                "6cc2e6046ec2491dbbb6d24d31fec878": {
                    "model_module": "@jupyter-widgets/controls",
                    "model_name": "FloatProgressModel",
                    "model_module_version": "1.5.0",
                    "state": {
                        "_dom_classes": [],
                        "_model_module": "@jupyter-widgets/controls",
                        "_model_module_version": "1.5.0",
                        "_model_name": "FloatProgressModel",
                        "_view_count": null,
                        "_view_module": "@jupyter-widgets/controls",
                        "_view_module_version": "1.5.0",
                        "_view_name": "ProgressView",
                        "bar_style": "success",
                        "description": "",
                        "description_tooltip": null,
                        "layout": "IPY_MODEL_f7eaef2ceadf4704b35bbd87e3546077",
                        "max": 2194,
                        "min": 0,
                        "orientation": "horizontal",
                        "style": "IPY_MODEL_9d4f1f6a45b740e385fd0598f0d9a89a",
                        "value": 2194
                    }
                },
                "32e3650eaf9c4d1fa4b8317217f94b5b": {
                    "model_module": "@jupyter-widgets/controls",
                    "model_name": "HTMLModel",
                    "model_module_version": "1.5.0",
                    "state": {
                        "_dom_classes": [],
                        "_model_module": "@jupyter-widgets/controls",
                        "_model_module_version": "1.5.0",
                        "_model_name": "HTMLModel",
                        "_view_count": null,
                        "_view_module": "@jupyter-widgets/controls",
                        "_view_module_version": "1.5.0",
                        "_view_name": "HTMLView",
                        "description": "",
                        "description_tooltip": null,
                        "layout": "IPY_MODEL_07d087d4fe5349d1bdd7233a78bdc9d9",
                        "placeholder": "​",
                        "style": "IPY_MODEL_365b2178b48c4fe6aa1435ab22ea3eab",
                        "value": " 2.19k/2.19k [00:00&lt;00:00, 79.3kB/s]"
                    }
                },
                "c044f2706b024aeeb034bf39050c80b3": {
                    "model_module": "@jupyter-widgets/base",
                    "model_name": "LayoutModel",
                    "model_module_version": "1.2.0",
                    "state": {
                        "_model_module": "@jupyter-widgets/base",
                        "_model_module_version": "1.2.0",
                        "_model_name": "LayoutModel",
                        "_view_count": null,
                        "_view_module": "@jupyter-widgets/base",
                        "_view_module_version": "1.2.0",
                        "_view_name": "LayoutView",
                        "align_content": null,
                        "align_items": null,
                        "align_self": null,
                        "border": null,
                        "bottom": null,
                        "display": null,
                        "flex": null,
                        "flex_flow": null,
                        "grid_area": null,
                        "grid_auto_columns": null,
                        "grid_auto_flow": null,
                        "grid_auto_rows": null,
                        "grid_column": null,
                        "grid_gap": null,
                        "grid_row": null,
                        "grid_template_areas": null,
                        "grid_template_columns": null,
                        "grid_template_rows": null,
                        "height": null,
                        "justify_content": null,
                        "justify_items": null,
                        "left": null,
                        "margin": null,
                        "max_height": null,
                        "max_width": null,
                        "min_height": null,
                        "min_width": null,
                        "object_fit": null,
                        "object_position": null,
                        "order": null,
                        "overflow": null,
                        "overflow_x": null,
                        "overflow_y": null,
                        "padding": null,
                        "right": null,
                        "top": null,
                        "visibility": null,
                        "width": null
                    }
                },
                "7051a267aa9c437bad75d0b6d72659bc": {
                    "model_module": "@jupyter-widgets/base",
                    "model_name": "LayoutModel",
                    "model_module_version": "1.2.0",
                    "state": {
                        "_model_module": "@jupyter-widgets/base",
                        "_model_module_version": "1.2.0",
                        "_model_name": "LayoutModel",
                        "_view_count": null,
                        "_view_module": "@jupyter-widgets/base",
                        "_view_module_version": "1.2.0",
                        "_view_name": "LayoutView",
                        "align_content": null,
                        "align_items": null,
                        "align_self": null,
                        "border": null,
                        "bottom": null,
                        "display": null,
                        "flex": null,
                        "flex_flow": null,
                        "grid_area": null,
                        "grid_auto_columns": null,
                        "grid_auto_flow": null,
                        "grid_auto_rows": null,
                        "grid_column": null,
                        "grid_gap": null,
                        "grid_row": null,
                        "grid_template_areas": null,
                        "grid_template_columns": null,
                        "grid_template_rows": null,
                        "height": null,
                        "justify_content": null,
                        "justify_items": null,
                        "left": null,
                        "margin": null,
                        "max_height": null,
                        "max_width": null,
                        "min_height": null,
                        "min_width": null,
                        "object_fit": null,
                        "object_position": null,
                        "order": null,
                        "overflow": null,
                        "overflow_x": null,
                        "overflow_y": null,
                        "padding": null,
                        "right": null,
                        "top": null,
                        "visibility": null,
                        "width": null
                    }
                },
                "93e3e641c00942ce89bda5fcefc5621e": {
                    "model_module": "@jupyter-widgets/controls",
                    "model_name": "DescriptionStyleModel",
                    "model_module_version": "1.5.0",
                    "state": {
                        "_model_module": "@jupyter-widgets/controls",
                        "_model_module_version": "1.5.0",
                        "_model_name": "DescriptionStyleModel",
                        "_view_count": null,
                        "_view_module": "@jupyter-widgets/base",
                        "_view_module_version": "1.2.0",
                        "_view_name": "StyleView",
                        "description_width": ""
                    }
                },
                "f7eaef2ceadf4704b35bbd87e3546077": {
                    "model_module": "@jupyter-widgets/base",
                    "model_name": "LayoutModel",
                    "model_module_version": "1.2.0",
                    "state": {
                        "_model_module": "@jupyter-widgets/base",
                        "_model_module_version": "1.2.0",
                        "_model_name": "LayoutModel",
                        "_view_count": null,
                        "_view_module": "@jupyter-widgets/base",
                        "_view_module_version": "1.2.0",
                        "_view_name": "LayoutView",
                        "align_content": null,
                        "align_items": null,
                        "align_self": null,
                        "border": null,
                        "bottom": null,
                        "display": null,
                        "flex": null,
                        "flex_flow": null,
                        "grid_area": null,
                        "grid_auto_columns": null,
                        "grid_auto_flow": null,
                        "grid_auto_rows": null,
                        "grid_column": null,
                        "grid_gap": null,
                        "grid_row": null,
                        "grid_template_areas": null,
                        "grid_template_columns": null,
                        "grid_template_rows": null,
                        "height": null,
                        "justify_content": null,
                        "justify_items": null,
                        "left": null,
                        "margin": null,
                        "max_height": null,
                        "max_width": null,
                        "min_height": null,
                        "min_width": null,
                        "object_fit": null,
                        "object_position": null,
                        "order": null,
                        "overflow": null,
                        "overflow_x": null,
                        "overflow_y": null,
                        "padding": null,
                        "right": null,
                        "top": null,
                        "visibility": null,
                        "width": null
                    }
                },
                "9d4f1f6a45b740e385fd0598f0d9a89a": {
                    "model_module": "@jupyter-widgets/controls",
                    "model_name": "ProgressStyleModel",
                    "model_module_version": "1.5.0",
                    "state": {
                        "_model_module": "@jupyter-widgets/controls",
                        "_model_module_version": "1.5.0",
                        "_model_name": "ProgressStyleModel",
                        "_view_count": null,
                        "_view_module": "@jupyter-widgets/base",
                        "_view_module_version": "1.2.0",
                        "_view_name": "StyleView",
                        "bar_color": null,
                        "description_width": ""
                    }
                },
                "07d087d4fe5349d1bdd7233a78bdc9d9": {
                    "model_module": "@jupyter-widgets/base",
                    "model_name": "LayoutModel",
                    "model_module_version": "1.2.0",
                    "state": {
                        "_model_module": "@jupyter-widgets/base",
                        "_model_module_version": "1.2.0",
                        "_model_name": "LayoutModel",
                        "_view_count": null,
                        "_view_module": "@jupyter-widgets/base",
                        "_view_module_version": "1.2.0",
                        "_view_name": "LayoutView",
                        "align_content": null,
                        "align_items": null,
                        "align_self": null,
                        "border": null,
                        "bottom": null,
                        "display": null,
                        "flex": null,
                        "flex_flow": null,
                        "grid_area": null,
                        "grid_auto_columns": null,
                        "grid_auto_flow": null,
                        "grid_auto_rows": null,
                        "grid_column": null,
                        "grid_gap": null,
                        "grid_row": null,
                        "grid_template_areas": null,
                        "grid_template_columns": null,
                        "grid_template_rows": null,
                        "height": null,
                        "justify_content": null,
                        "justify_items": null,
                        "left": null,
                        "margin": null,
                        "max_height": null,
                        "max_width": null,
                        "min_height": null,
                        "min_width": null,
                        "object_fit": null,
                        "object_position": null,
                        "order": null,
                        "overflow": null,
                        "overflow_x": null,
                        "overflow_y": null,
                        "padding": null,
                        "right": null,
                        "top": null,
                        "visibility": null,
                        "width": null
                    }
                },
                "365b2178b48c4fe6aa1435ab22ea3eab": {
                    "model_module": "@jupyter-widgets/controls",
                    "model_name": "DescriptionStyleModel",
                    "model_module_version": "1.5.0",
                    "state": {
                        "_model_module": "@jupyter-widgets/controls",
                        "_model_module_version": "1.5.0",
                        "_model_name": "DescriptionStyleModel",
                        "_view_count": null,
                        "_view_module": "@jupyter-widgets/base",
                        "_view_module_version": "1.2.0",
                        "_view_name": "StyleView",
                        "description_width": ""
                    }
                },
                "7fdfe8fbf35440d98bd071c3fe7930a5": {
                    "model_module": "@jupyter-widgets/controls",
                    "model_name": "HBoxModel",
                    "model_module_version": "1.5.0",
                    "state": {
                        "_dom_classes": [],
                        "_model_module": "@jupyter-widgets/controls",
                        "_model_module_version": "1.5.0",
                        "_model_name": "HBoxModel",
                        "_view_count": null,
                        "_view_module": "@jupyter-widgets/controls",
                        "_view_module_version": "1.5.0",
                        "_view_name": "HBoxView",
                        "box_style": "",
                        "children": [
                            "IPY_MODEL_ef2506a9daae4f2ea1a175c0b7cd4f48",
                            "IPY_MODEL_e7e61cc600a24eae98def35b094a8e2e",
                            "IPY_MODEL_9f5a3b594e694d4898ef89c30f84f754"
                        ],
                        "layout": "IPY_MODEL_822a14d56e054c6a97055a36aac79ec8"
                    }
                },
                "ef2506a9daae4f2ea1a175c0b7cd4f48": {
                    "model_module": "@jupyter-widgets/controls",
                    "model_name": "HTMLModel",
                    "model_module_version": "1.5.0",
                    "state": {
                        "_dom_classes": [],
                        "_model_module": "@jupyter-widgets/controls",
                        "_model_module_version": "1.5.0",
                        "_model_name": "HTMLModel",
                        "_view_count": null,
                        "_view_module": "@jupyter-widgets/controls",
                        "_view_module_version": "1.5.0",
                        "_view_name": "HTMLView",
                        "description": "",
                        "description_tooltip": null,
                        "layout": "IPY_MODEL_206fce0423c44fa2b62c91d7e4b1848f",
                        "placeholder": "​",
                        "style": "IPY_MODEL_34d3ad127fa84af5a9e0031663714003",
                        "value": "preprocessor_config.json: 100%"
                    }
                },
                "e7e61cc600a24eae98def35b094a8e2e": {
                    "model_module": "@jupyter-widgets/controls",
                    "model_name": "FloatProgressModel",
                    "model_module_version": "1.5.0",
                    "state": {
                        "_dom_classes": [],
                        "_model_module": "@jupyter-widgets/controls",
                        "_model_module_version": "1.5.0",
                        "_model_name": "FloatProgressModel",
                        "_view_count": null,
                        "_view_module": "@jupyter-widgets/controls",
                        "_view_module_version": "1.5.0",
                        "_view_name": "ProgressView",
                        "bar_style": "success",
                        "description": "",
                        "description_tooltip": null,
                        "layout": "IPY_MODEL_c72fc5dd55bc419e9ff059ad1e275174",
                        "max": 339,
                        "min": 0,
                        "orientation": "horizontal",
                        "style": "IPY_MODEL_83c88a7d1b16492fbbf8bbda2e7109ae",
                        "value": 339
                    }
                },
                "9f5a3b594e694d4898ef89c30f84f754": {
                    "model_module": "@jupyter-widgets/controls",
                    "model_name": "HTMLModel",
                    "model_module_version": "1.5.0",
                    "state": {
                        "_dom_classes": [],
                        "_model_module": "@jupyter-widgets/controls",
                        "_model_module_version": "1.5.0",
                        "_model_name": "HTMLModel",
                        "_view_count": null,
                        "_view_module": "@jupyter-widgets/controls",
                        "_view_module_version": "1.5.0",
                        "_view_name": "HTMLView",
                        "description": "",
                        "description_tooltip": null,
                        "layout": "IPY_MODEL_c2cb579a5de740a8828b204f5f92c600",
                        "placeholder": "​",
                        "style": "IPY_MODEL_aa67991ad4aa486d99331ff81094711f",
                        "value": " 339/339 [00:00&lt;00:00, 9.03kB/s]"
                    }
                },
                "822a14d56e054c6a97055a36aac79ec8": {
                    "model_module": "@jupyter-widgets/base",
                    "model_name": "LayoutModel",
                    "model_module_version": "1.2.0",
                    "state": {
                        "_model_module": "@jupyter-widgets/base",
                        "_model_module_version": "1.2.0",
                        "_model_name": "LayoutModel",
                        "_view_count": null,
                        "_view_module": "@jupyter-widgets/base",
                        "_view_module_version": "1.2.0",
                        "_view_name": "LayoutView",
                        "align_content": null,
                        "align_items": null,
                        "align_self": null,
                        "border": null,
                        "bottom": null,
                        "display": null,
                        "flex": null,
                        "flex_flow": null,
                        "grid_area": null,
                        "grid_auto_columns": null,
                        "grid_auto_flow": null,
                        "grid_auto_rows": null,
                        "grid_column": null,
                        "grid_gap": null,
                        "grid_row": null,
                        "grid_template_areas": null,
                        "grid_template_columns": null,
                        "grid_template_rows": null,
                        "height": null,
                        "justify_content": null,
                        "justify_items": null,
                        "left": null,
                        "margin": null,
                        "max_height": null,
                        "max_width": null,
                        "min_height": null,
                        "min_width": null,
                        "object_fit": null,
                        "object_position": null,
                        "order": null,
                        "overflow": null,
                        "overflow_x": null,
                        "overflow_y": null,
                        "padding": null,
                        "right": null,
                        "top": null,
                        "visibility": null,
                        "width": null
                    }
                },
                "206fce0423c44fa2b62c91d7e4b1848f": {
                    "model_module": "@jupyter-widgets/base",
                    "model_name": "LayoutModel",
                    "model_module_version": "1.2.0",
                    "state": {
                        "_model_module": "@jupyter-widgets/base",
                        "_model_module_version": "1.2.0",
                        "_model_name": "LayoutModel",
                        "_view_count": null,
                        "_view_module": "@jupyter-widgets/base",
                        "_view_module_version": "1.2.0",
                        "_view_name": "LayoutView",
                        "align_content": null,
                        "align_items": null,
                        "align_self": null,
                        "border": null,
                        "bottom": null,
                        "display": null,
                        "flex": null,
                        "flex_flow": null,
                        "grid_area": null,
                        "grid_auto_columns": null,
                        "grid_auto_flow": null,
                        "grid_auto_rows": null,
                        "grid_column": null,
                        "grid_gap": null,
                        "grid_row": null,
                        "grid_template_areas": null,
                        "grid_template_columns": null,
                        "grid_template_rows": null,
                        "height": null,
                        "justify_content": null,
                        "justify_items": null,
                        "left": null,
                        "margin": null,
                        "max_height": null,
                        "max_width": null,
                        "min_height": null,
                        "min_width": null,
                        "object_fit": null,
                        "object_position": null,
                        "order": null,
                        "overflow": null,
                        "overflow_x": null,
                        "overflow_y": null,
                        "padding": null,
                        "right": null,
                        "top": null,
                        "visibility": null,
                        "width": null
                    }
                },
                "34d3ad127fa84af5a9e0031663714003": {
                    "model_module": "@jupyter-widgets/controls",
                    "model_name": "DescriptionStyleModel",
                    "model_module_version": "1.5.0",
                    "state": {
                        "_model_module": "@jupyter-widgets/controls",
                        "_model_module_version": "1.5.0",
                        "_model_name": "DescriptionStyleModel",
                        "_view_count": null,
                        "_view_module": "@jupyter-widgets/base",
                        "_view_module_version": "1.2.0",
                        "_view_name": "StyleView",
                        "description_width": ""
                    }
                },
                "c72fc5dd55bc419e9ff059ad1e275174": {
                    "model_module": "@jupyter-widgets/base",
                    "model_name": "LayoutModel",
                    "model_module_version": "1.2.0",
                    "state": {
                        "_model_module": "@jupyter-widgets/base",
                        "_model_module_version": "1.2.0",
                        "_model_name": "LayoutModel",
                        "_view_count": null,
                        "_view_module": "@jupyter-widgets/base",
                        "_view_module_version": "1.2.0",
                        "_view_name": "LayoutView",
                        "align_content": null,
                        "align_items": null,
                        "align_self": null,
                        "border": null,
                        "bottom": null,
                        "display": null,
                        "flex": null,
                        "flex_flow": null,
                        "grid_area": null,
                        "grid_auto_columns": null,
                        "grid_auto_flow": null,
                        "grid_auto_rows": null,
                        "grid_column": null,
                        "grid_gap": null,
                        "grid_row": null,
                        "grid_template_areas": null,
                        "grid_template_columns": null,
                        "grid_template_rows": null,
                        "height": null,
                        "justify_content": null,
                        "justify_items": null,
                        "left": null,
                        "margin": null,
                        "max_height": null,
                        "max_width": null,
                        "min_height": null,
                        "min_width": null,
                        "object_fit": null,
                        "object_position": null,
                        "order": null,
                        "overflow": null,
                        "overflow_x": null,
                        "overflow_y": null,
                        "padding": null,
                        "right": null,
                        "top": null,
                        "visibility": null,
                        "width": null
                    }
                },
                "83c88a7d1b16492fbbf8bbda2e7109ae": {
                    "model_module": "@jupyter-widgets/controls",
                    "model_name": "ProgressStyleModel",
                    "model_module_version": "1.5.0",
                    "state": {
                        "_model_module": "@jupyter-widgets/controls",
                        "_model_module_version": "1.5.0",
                        "_model_name": "ProgressStyleModel",
                        "_view_count": null,
                        "_view_module": "@jupyter-widgets/base",
                        "_view_module_version": "1.2.0",
                        "_view_name": "StyleView",
                        "bar_color": null,
                        "description_width": ""
                    }
                },
                "c2cb579a5de740a8828b204f5f92c600": {
                    "model_module": "@jupyter-widgets/base",
                    "model_name": "LayoutModel",
                    "model_module_version": "1.2.0",
                    "state": {
                        "_model_module": "@jupyter-widgets/base",
                        "_model_module_version": "1.2.0",
                        "_model_name": "LayoutModel",
                        "_view_count": null,
                        "_view_module": "@jupyter-widgets/base",
                        "_view_module_version": "1.2.0",
                        "_view_name": "LayoutView",
                        "align_content": null,
                        "align_items": null,
                        "align_self": null,
                        "border": null,
                        "bottom": null,
                        "display": null,
                        "flex": null,
                        "flex_flow": null,
                        "grid_area": null,
                        "grid_auto_columns": null,
                        "grid_auto_flow": null,
                        "grid_auto_rows": null,
                        "grid_column": null,
                        "grid_gap": null,
                        "grid_row": null,
                        "grid_template_areas": null,
                        "grid_template_columns": null,
                        "grid_template_rows": null,
                        "height": null,
                        "justify_content": null,
                        "justify_items": null,
                        "left": null,
                        "margin": null,
                        "max_height": null,
                        "max_width": null,
                        "min_height": null,
                        "min_width": null,
                        "object_fit": null,
                        "object_position": null,
                        "order": null,
                        "overflow": null,
                        "overflow_x": null,
                        "overflow_y": null,
                        "padding": null,
                        "right": null,
                        "top": null,
                        "visibility": null,
                        "width": null
                    }
                },
                "aa67991ad4aa486d99331ff81094711f": {
                    "model_module": "@jupyter-widgets/controls",
                    "model_name": "DescriptionStyleModel",
                    "model_module_version": "1.5.0",
                    "state": {
                        "_model_module": "@jupyter-widgets/controls",
                        "_model_module_version": "1.5.0",
                        "_model_name": "DescriptionStyleModel",
                        "_view_count": null,
                        "_view_module": "@jupyter-widgets/base",
                        "_view_module_version": "1.2.0",
                        "_view_name": "StyleView",
                        "description_width": ""
                    }
                },
                "939ab9a278a2460397a286f6c103f895": {
                    "model_module": "@jupyter-widgets/controls",
                    "model_name": "HBoxModel",
                    "model_module_version": "1.5.0",
                    "state": {
                        "_dom_classes": [],
                        "_model_module": "@jupyter-widgets/controls",
                        "_model_module_version": "1.5.0",
                        "_model_name": "HBoxModel",
                        "_view_count": null,
                        "_view_module": "@jupyter-widgets/controls",
                        "_view_module_version": "1.5.0",
                        "_view_name": "HBoxView",
                        "box_style": "",
                        "children": [
                            "IPY_MODEL_917c3c926075479bbefdd5632aa79747",
                            "IPY_MODEL_1f16f8c31c7f454dbdd029291807dedf",
                            "IPY_MODEL_566b8759f04544ac948c6bb93e2fa6ca"
                        ],
                        "layout": "IPY_MODEL_3e1fbb8844ae4b5a92820d44f12c44a9"
                    }
                },
                "917c3c926075479bbefdd5632aa79747": {
                    "model_module": "@jupyter-widgets/controls",
                    "model_name": "HTMLModel",
                    "model_module_version": "1.5.0",
                    "state": {
                        "_dom_classes": [],
                        "_model_module": "@jupyter-widgets/controls",
                        "_model_module_version": "1.5.0",
                        "_model_name": "HTMLModel",
                        "_view_count": null,
                        "_view_module": "@jupyter-widgets/controls",
                        "_view_module_version": "1.5.0",
                        "_view_name": "HTMLView",
                        "description": "",
                        "description_tooltip": null,
                        "layout": "IPY_MODEL_2a6e47b7fc314566b4b0c159b8877dac",
                        "placeholder": "​",
                        "style": "IPY_MODEL_5f27342c9b3a4f6483bcd08832d5934d",
                        "value": "Map (num_proc=2): 100%"
                    }
                },
                "1f16f8c31c7f454dbdd029291807dedf": {
                    "model_module": "@jupyter-widgets/controls",
                    "model_name": "FloatProgressModel",
                    "model_module_version": "1.5.0",
                    "state": {
                        "_dom_classes": [],
                        "_model_module": "@jupyter-widgets/controls",
                        "_model_module_version": "1.5.0",
                        "_model_name": "FloatProgressModel",
                        "_view_count": null,
                        "_view_module": "@jupyter-widgets/controls",
                        "_view_module_version": "1.5.0",
                        "_view_name": "ProgressView",
                        "bar_style": "success",
                        "description": "",
                        "description_tooltip": null,
                        "layout": "IPY_MODEL_d748e4da5a4a4115b4286a77886cba34",
                        "max": 37,
                        "min": 0,
                        "orientation": "horizontal",
                        "style": "IPY_MODEL_4305d0998ee24b26a7bb932f4ee80221",
                        "value": 37
                    }
                },
                "566b8759f04544ac948c6bb93e2fa6ca": {
                    "model_module": "@jupyter-widgets/controls",
                    "model_name": "HTMLModel",
                    "model_module_version": "1.5.0",
                    "state": {
                        "_dom_classes": [],
                        "_model_module": "@jupyter-widgets/controls",
                        "_model_module_version": "1.5.0",
                        "_model_name": "HTMLModel",
                        "_view_count": null,
                        "_view_module": "@jupyter-widgets/controls",
                        "_view_module_version": "1.5.0",
                        "_view_name": "HTMLView",
                        "description": "",
                        "description_tooltip": null,
                        "layout": "IPY_MODEL_68e37ad98a4e459e8c8cdf490d2175b1",
                        "placeholder": "​",
                        "style": "IPY_MODEL_c518b6cc4f6c46379336347e3ebeaa49",
                        "value": " 37/37 [00:02&lt;00:00, 22.54 examples/s]"
                    }
                },
                "3e1fbb8844ae4b5a92820d44f12c44a9": {
                    "model_module": "@jupyter-widgets/base",
                    "model_name": "LayoutModel",
                    "model_module_version": "1.2.0",
                    "state": {
                        "_model_module": "@jupyter-widgets/base",
                        "_model_module_version": "1.2.0",
                        "_model_name": "LayoutModel",
                        "_view_count": null,
                        "_view_module": "@jupyter-widgets/base",
                        "_view_module_version": "1.2.0",
                        "_view_name": "LayoutView",
                        "align_content": null,
                        "align_items": null,
                        "align_self": null,
                        "border": null,
                        "bottom": null,
                        "display": null,
                        "flex": null,
                        "flex_flow": null,
                        "grid_area": null,
                        "grid_auto_columns": null,
                        "grid_auto_flow": null,
                        "grid_auto_rows": null,
                        "grid_column": null,
                        "grid_gap": null,
                        "grid_row": null,
                        "grid_template_areas": null,
                        "grid_template_columns": null,
                        "grid_template_rows": null,
                        "height": null,
                        "justify_content": null,
                        "justify_items": null,
                        "left": null,
                        "margin": null,
                        "max_height": null,
                        "max_width": null,
                        "min_height": null,
                        "min_width": null,
                        "object_fit": null,
                        "object_position": null,
                        "order": null,
                        "overflow": null,
                        "overflow_x": null,
                        "overflow_y": null,
                        "padding": null,
                        "right": null,
                        "top": null,
                        "visibility": null,
                        "width": null
                    }
                },
                "2a6e47b7fc314566b4b0c159b8877dac": {
                    "model_module": "@jupyter-widgets/base",
                    "model_name": "LayoutModel",
                    "model_module_version": "1.2.0",
                    "state": {
                        "_model_module": "@jupyter-widgets/base",
                        "_model_module_version": "1.2.0",
                        "_model_name": "LayoutModel",
                        "_view_count": null,
                        "_view_module": "@jupyter-widgets/base",
                        "_view_module_version": "1.2.0",
                        "_view_name": "LayoutView",
                        "align_content": null,
                        "align_items": null,
                        "align_self": null,
                        "border": null,
                        "bottom": null,
                        "display": null,
                        "flex": null,
                        "flex_flow": null,
                        "grid_area": null,
                        "grid_auto_columns": null,
                        "grid_auto_flow": null,
                        "grid_auto_rows": null,
                        "grid_column": null,
                        "grid_gap": null,
                        "grid_row": null,
                        "grid_template_areas": null,
                        "grid_template_columns": null,
                        "grid_template_rows": null,
                        "height": null,
                        "justify_content": null,
                        "justify_items": null,
                        "left": null,
                        "margin": null,
                        "max_height": null,
                        "max_width": null,
                        "min_height": null,
                        "min_width": null,
                        "object_fit": null,
                        "object_position": null,
                        "order": null,
                        "overflow": null,
                        "overflow_x": null,
                        "overflow_y": null,
                        "padding": null,
                        "right": null,
                        "top": null,
                        "visibility": null,
                        "width": null
                    }
                },
                "5f27342c9b3a4f6483bcd08832d5934d": {
                    "model_module": "@jupyter-widgets/controls",
                    "model_name": "DescriptionStyleModel",
                    "model_module_version": "1.5.0",
                    "state": {
                        "_model_module": "@jupyter-widgets/controls",
                        "_model_module_version": "1.5.0",
                        "_model_name": "DescriptionStyleModel",
                        "_view_count": null,
                        "_view_module": "@jupyter-widgets/base",
                        "_view_module_version": "1.2.0",
                        "_view_name": "StyleView",
                        "description_width": ""
                    }
                },
                "d748e4da5a4a4115b4286a77886cba34": {
                    "model_module": "@jupyter-widgets/base",
                    "model_name": "LayoutModel",
                    "model_module_version": "1.2.0",
                    "state": {
                        "_model_module": "@jupyter-widgets/base",
                        "_model_module_version": "1.2.0",
                        "_model_name": "LayoutModel",
                        "_view_count": null,
                        "_view_module": "@jupyter-widgets/base",
                        "_view_module_version": "1.2.0",
                        "_view_name": "LayoutView",
                        "align_content": null,
                        "align_items": null,
                        "align_self": null,
                        "border": null,
                        "bottom": null,
                        "display": null,
                        "flex": null,
                        "flex_flow": null,
                        "grid_area": null,
                        "grid_auto_columns": null,
                        "grid_auto_flow": null,
                        "grid_auto_rows": null,
                        "grid_column": null,
                        "grid_gap": null,
                        "grid_row": null,
                        "grid_template_areas": null,
                        "grid_template_columns": null,
                        "grid_template_rows": null,
                        "height": null,
                        "justify_content": null,
                        "justify_items": null,
                        "left": null,
                        "margin": null,
                        "max_height": null,
                        "max_width": null,
                        "min_height": null,
                        "min_width": null,
                        "object_fit": null,
                        "object_position": null,
                        "order": null,
                        "overflow": null,
                        "overflow_x": null,
                        "overflow_y": null,
                        "padding": null,
                        "right": null,
                        "top": null,
                        "visibility": null,
                        "width": null
                    }
                },
                "4305d0998ee24b26a7bb932f4ee80221": {
                    "model_module": "@jupyter-widgets/controls",
                    "model_name": "ProgressStyleModel",
                    "model_module_version": "1.5.0",
                    "state": {
                        "_model_module": "@jupyter-widgets/controls",
                        "_model_module_version": "1.5.0",
                        "_model_name": "ProgressStyleModel",
                        "_view_count": null,
                        "_view_module": "@jupyter-widgets/base",
                        "_view_module_version": "1.2.0",
                        "_view_name": "StyleView",
                        "bar_color": null,
                        "description_width": ""
                    }
                },
                "68e37ad98a4e459e8c8cdf490d2175b1": {
                    "model_module": "@jupyter-widgets/base",
                    "model_name": "LayoutModel",
                    "model_module_version": "1.2.0",
                    "state": {
                        "_model_module": "@jupyter-widgets/base",
                        "_model_module_version": "1.2.0",
                        "_model_name": "LayoutModel",
                        "_view_count": null,
                        "_view_module": "@jupyter-widgets/base",
                        "_view_module_version": "1.2.0",
                        "_view_name": "LayoutView",
                        "align_content": null,
                        "align_items": null,
                        "align_self": null,
                        "border": null,
                        "bottom": null,
                        "display": null,
                        "flex": null,
                        "flex_flow": null,
                        "grid_area": null,
                        "grid_auto_columns": null,
                        "grid_auto_flow": null,
                        "grid_auto_rows": null,
                        "grid_column": null,
                        "grid_gap": null,
                        "grid_row": null,
                        "grid_template_areas": null,
                        "grid_template_columns": null,
                        "grid_template_rows": null,
                        "height": null,
                        "justify_content": null,
                        "justify_items": null,
                        "left": null,
                        "margin": null,
                        "max_height": null,
                        "max_width": null,
                        "min_height": null,
                        "min_width": null,
                        "object_fit": null,
                        "object_position": null,
                        "order": null,
                        "overflow": null,
                        "overflow_x": null,
                        "overflow_y": null,
                        "padding": null,
                        "right": null,
                        "top": null,
                        "visibility": null,
                        "width": null
                    }
                },
                "c518b6cc4f6c46379336347e3ebeaa49": {
                    "model_module": "@jupyter-widgets/controls",
                    "model_name": "DescriptionStyleModel",
                    "model_module_version": "1.5.0",
                    "state": {
                        "_model_module": "@jupyter-widgets/controls",
                        "_model_module_version": "1.5.0",
                        "_model_name": "DescriptionStyleModel",
                        "_view_count": null,
                        "_view_module": "@jupyter-widgets/base",
                        "_view_module_version": "1.2.0",
                        "_view_name": "StyleView",
                        "description_width": ""
                    }
                },
                "05c67771c253420d9ea9c1380a8ae073": {
                    "model_module": "@jupyter-widgets/controls",
                    "model_name": "HBoxModel",
                    "model_module_version": "1.5.0",
                    "state": {
                        "_dom_classes": [],
                        "_model_module": "@jupyter-widgets/controls",
                        "_model_module_version": "1.5.0",
                        "_model_name": "HBoxModel",
                        "_view_count": null,
                        "_view_module": "@jupyter-widgets/controls",
                        "_view_module_version": "1.5.0",
                        "_view_name": "HBoxView",
                        "box_style": "",
                        "children": [
                            "IPY_MODEL_f4ed62a6f25a49e48bf4f18e039d6822",
                            "IPY_MODEL_3e930c24ba6f4698beecd0fab272fad7",
                            "IPY_MODEL_9314fef2568043ab90f2589a15dbdc2f"
                        ],
                        "layout": "IPY_MODEL_9caa69775f5448d9b0570b38f0aa7f92"
                    }
                },
                "f4ed62a6f25a49e48bf4f18e039d6822": {
                    "model_module": "@jupyter-widgets/controls",
                    "model_name": "HTMLModel",
                    "model_module_version": "1.5.0",
                    "state": {
                        "_dom_classes": [],
                        "_model_module": "@jupyter-widgets/controls",
                        "_model_module_version": "1.5.0",
                        "_model_name": "HTMLModel",
                        "_view_count": null,
                        "_view_module": "@jupyter-widgets/controls",
                        "_view_module_version": "1.5.0",
                        "_view_name": "HTMLView",
                        "description": "",
                        "description_tooltip": null,
                        "layout": "IPY_MODEL_1a9b8bb2d516433a9fba3c9ba2869c13",
                        "placeholder": "​",
                        "style": "IPY_MODEL_987a7bea05844955b8d9431112007308",
                        "value": "Map (num_proc=2): 100%"
                    }
                },
                "3e930c24ba6f4698beecd0fab272fad7": {
                    "model_module": "@jupyter-widgets/controls",
                    "model_name": "FloatProgressModel",
                    "model_module_version": "1.5.0",
                    "state": {
                        "_dom_classes": [],
                        "_model_module": "@jupyter-widgets/controls",
                        "_model_module_version": "1.5.0",
                        "_model_name": "FloatProgressModel",
                        "_view_count": null,
                        "_view_module": "@jupyter-widgets/controls",
                        "_view_module_version": "1.5.0",
                        "_view_name": "ProgressView",
                        "bar_style": "success",
                        "description": "",
                        "description_tooltip": null,
                        "layout": "IPY_MODEL_3f41e5cb090f4f6f8c3f3f51ac6ecfe1",
                        "max": 15,
                        "min": 0,
                        "orientation": "horizontal",
                        "style": "IPY_MODEL_ac141467614842099f11d7fe52ebe581",
                        "value": 15
                    }
                },
                "9314fef2568043ab90f2589a15dbdc2f": {
                    "model_module": "@jupyter-widgets/controls",
                    "model_name": "HTMLModel",
                    "model_module_version": "1.5.0",
                    "state": {
                        "_dom_classes": [],
                        "_model_module": "@jupyter-widgets/controls",
                        "_model_module_version": "1.5.0",
                        "_model_name": "HTMLModel",
                        "_view_count": null,
                        "_view_module": "@jupyter-widgets/controls",
                        "_view_module_version": "1.5.0",
                        "_view_name": "HTMLView",
                        "description": "",
                        "description_tooltip": null,
                        "layout": "IPY_MODEL_be0214f710e049428daac907ee77024b",
                        "placeholder": "​",
                        "style": "IPY_MODEL_5a21dbb431164fa288cbb857ee87e0b7",
                        "value": " 15/15 [00:01&lt;00:00,  9.85 examples/s]"
                    }
                },
                "9caa69775f5448d9b0570b38f0aa7f92": {
                    "model_module": "@jupyter-widgets/base",
                    "model_name": "LayoutModel",
                    "model_module_version": "1.2.0",
                    "state": {
                        "_model_module": "@jupyter-widgets/base",
                        "_model_module_version": "1.2.0",
                        "_model_name": "LayoutModel",
                        "_view_count": null,
                        "_view_module": "@jupyter-widgets/base",
                        "_view_module_version": "1.2.0",
                        "_view_name": "LayoutView",
                        "align_content": null,
                        "align_items": null,
                        "align_self": null,
                        "border": null,
                        "bottom": null,
                        "display": null,
                        "flex": null,
                        "flex_flow": null,
                        "grid_area": null,
                        "grid_auto_columns": null,
                        "grid_auto_flow": null,
                        "grid_auto_rows": null,
                        "grid_column": null,
                        "grid_gap": null,
                        "grid_row": null,
                        "grid_template_areas": null,
                        "grid_template_columns": null,
                        "grid_template_rows": null,
                        "height": null,
                        "justify_content": null,
                        "justify_items": null,
                        "left": null,
                        "margin": null,
                        "max_height": null,
                        "max_width": null,
                        "min_height": null,
                        "min_width": null,
                        "object_fit": null,
                        "object_position": null,
                        "order": null,
                        "overflow": null,
                        "overflow_x": null,
                        "overflow_y": null,
                        "padding": null,
                        "right": null,
                        "top": null,
                        "visibility": null,
                        "width": null
                    }
                },
                "1a9b8bb2d516433a9fba3c9ba2869c13": {
                    "model_module": "@jupyter-widgets/base",
                    "model_name": "LayoutModel",
                    "model_module_version": "1.2.0",
                    "state": {
                        "_model_module": "@jupyter-widgets/base",
                        "_model_module_version": "1.2.0",
                        "_model_name": "LayoutModel",
                        "_view_count": null,
                        "_view_module": "@jupyter-widgets/base",
                        "_view_module_version": "1.2.0",
                        "_view_name": "LayoutView",
                        "align_content": null,
                        "align_items": null,
                        "align_self": null,
                        "border": null,
                        "bottom": null,
                        "display": null,
                        "flex": null,
                        "flex_flow": null,
                        "grid_area": null,
                        "grid_auto_columns": null,
                        "grid_auto_flow": null,
                        "grid_auto_rows": null,
                        "grid_column": null,
                        "grid_gap": null,
                        "grid_row": null,
                        "grid_template_areas": null,
                        "grid_template_columns": null,
                        "grid_template_rows": null,
                        "height": null,
                        "justify_content": null,
                        "justify_items": null,
                        "left": null,
                        "margin": null,
                        "max_height": null,
                        "max_width": null,
                        "min_height": null,
                        "min_width": null,
                        "object_fit": null,
                        "object_position": null,
                        "order": null,
                        "overflow": null,
                        "overflow_x": null,
                        "overflow_y": null,
                        "padding": null,
                        "right": null,
                        "top": null,
                        "visibility": null,
                        "width": null
                    }
                },
                "987a7bea05844955b8d9431112007308": {
                    "model_module": "@jupyter-widgets/controls",
                    "model_name": "DescriptionStyleModel",
                    "model_module_version": "1.5.0",
                    "state": {
                        "_model_module": "@jupyter-widgets/controls",
                        "_model_module_version": "1.5.0",
                        "_model_name": "DescriptionStyleModel",
                        "_view_count": null,
                        "_view_module": "@jupyter-widgets/base",
                        "_view_module_version": "1.2.0",
                        "_view_name": "StyleView",
                        "description_width": ""
                    }
                },
                "3f41e5cb090f4f6f8c3f3f51ac6ecfe1": {
                    "model_module": "@jupyter-widgets/base",
                    "model_name": "LayoutModel",
                    "model_module_version": "1.2.0",
                    "state": {
                        "_model_module": "@jupyter-widgets/base",
                        "_model_module_version": "1.2.0",
                        "_model_name": "LayoutModel",
                        "_view_count": null,
                        "_view_module": "@jupyter-widgets/base",
                        "_view_module_version": "1.2.0",
                        "_view_name": "LayoutView",
                        "align_content": null,
                        "align_items": null,
                        "align_self": null,
                        "border": null,
                        "bottom": null,
                        "display": null,
                        "flex": null,
                        "flex_flow": null,
                        "grid_area": null,
                        "grid_auto_columns": null,
                        "grid_auto_flow": null,
                        "grid_auto_rows": null,
                        "grid_column": null,
                        "grid_gap": null,
                        "grid_row": null,
                        "grid_template_areas": null,
                        "grid_template_columns": null,
                        "grid_template_rows": null,
                        "height": null,
                        "justify_content": null,
                        "justify_items": null,
                        "left": null,
                        "margin": null,
                        "max_height": null,
                        "max_width": null,
                        "min_height": null,
                        "min_width": null,
                        "object_fit": null,
                        "object_position": null,
                        "order": null,
                        "overflow": null,
                        "overflow_x": null,
                        "overflow_y": null,
                        "padding": null,
                        "right": null,
                        "top": null,
                        "visibility": null,
                        "width": null
                    }
                },
                "ac141467614842099f11d7fe52ebe581": {
                    "model_module": "@jupyter-widgets/controls",
                    "model_name": "ProgressStyleModel",
                    "model_module_version": "1.5.0",
                    "state": {
                        "_model_module": "@jupyter-widgets/controls",
                        "_model_module_version": "1.5.0",
                        "_model_name": "ProgressStyleModel",
                        "_view_count": null,
                        "_view_module": "@jupyter-widgets/base",
                        "_view_module_version": "1.2.0",
                        "_view_name": "StyleView",
                        "bar_color": null,
                        "description_width": ""
                    }
                },
                "be0214f710e049428daac907ee77024b": {
                    "model_module": "@jupyter-widgets/base",
                    "model_name": "LayoutModel",
                    "model_module_version": "1.2.0",
                    "state": {
                        "_model_module": "@jupyter-widgets/base",
                        "_model_module_version": "1.2.0",
                        "_model_name": "LayoutModel",
                        "_view_count": null,
                        "_view_module": "@jupyter-widgets/base",
                        "_view_module_version": "1.2.0",
                        "_view_name": "LayoutView",
                        "align_content": null,
                        "align_items": null,
                        "align_self": null,
                        "border": null,
                        "bottom": null,
                        "display": null,
                        "flex": null,
                        "flex_flow": null,
                        "grid_area": null,
                        "grid_auto_columns": null,
                        "grid_auto_flow": null,
                        "grid_auto_rows": null,
                        "grid_column": null,
                        "grid_gap": null,
                        "grid_row": null,
                        "grid_template_areas": null,
                        "grid_template_columns": null,
                        "grid_template_rows": null,
                        "height": null,
                        "justify_content": null,
                        "justify_items": null,
                        "left": null,
                        "margin": null,
                        "max_height": null,
                        "max_width": null,
                        "min_height": null,
                        "min_width": null,
                        "object_fit": null,
                        "object_position": null,
                        "order": null,
                        "overflow": null,
                        "overflow_x": null,
                        "overflow_y": null,
                        "padding": null,
                        "right": null,
                        "top": null,
                        "visibility": null,
                        "width": null
                    }
                },
                "5a21dbb431164fa288cbb857ee87e0b7": {
                    "model_module": "@jupyter-widgets/controls",
                    "model_name": "DescriptionStyleModel",
                    "model_module_version": "1.5.0",
                    "state": {
                        "_model_module": "@jupyter-widgets/controls",
                        "_model_module_version": "1.5.0",
                        "_model_name": "DescriptionStyleModel",
                        "_view_count": null,
                        "_view_module": "@jupyter-widgets/base",
                        "_view_module_version": "1.2.0",
                        "_view_name": "StyleView",
                        "description_width": ""
                    }
                }
            }
        }
    },
    "nbformat": 4,
    "nbformat_minor": 5
}
